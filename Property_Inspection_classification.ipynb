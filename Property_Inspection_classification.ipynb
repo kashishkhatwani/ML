{
  "nbformat": 4,
  "nbformat_minor": 5,
  "metadata": {
    "kernelspec": {
      "display_name": "Python 3",
      "language": "python",
      "name": "python3"
    },
    "language_info": {
      "codemirror_mode": {
        "name": "ipython",
        "version": 3
      },
      "file_extension": ".py",
      "mimetype": "text/x-python",
      "name": "python",
      "nbconvert_exporter": "python",
      "pygments_lexer": "ipython3",
      "version": "3.8.8"
    },
    "colab": {
      "name": "Property Inspection - classification.ipynb",
      "provenance": [],
      "toc_visible": true,
      "include_colab_link": true
    }
  },
  "cells": [
    {
      "cell_type": "markdown",
      "metadata": {
        "id": "view-in-github",
        "colab_type": "text"
      },
      "source": [
        "<a href=\"https://colab.research.google.com/github/kashishkhatwani/ML/blob/main/Property_Inspection_classification.ipynb\" target=\"_parent\"><img src=\"https://colab.research.google.com/assets/colab-badge.svg\" alt=\"Open In Colab\"/></a>"
      ]
    },
    {
      "cell_type": "markdown",
      "metadata": {
        "id": "82fc8221"
      },
      "source": [
        "# Property Hazard Score prediction - Machine Learning Advanced\n"
      ],
      "id": "82fc8221"
    },
    {
      "cell_type": "markdown",
      "metadata": {
        "id": "78e7ee52"
      },
      "source": [
        "- Introduction\n",
        "- Problem Statement\n",
        "- Data Loading\n",
        "-  Analysis \n",
        "- Feature Scaling\n",
        "- Feature Selection\n",
        "- Model Development "
      ],
      "id": "78e7ee52"
    },
    {
      "cell_type": "markdown",
      "metadata": {
        "id": "3bd60b2d"
      },
      "source": [
        "<a id=section1></a>\n",
        "# 1. Introduction\n",
        "\n",
        "  \n",
        "\n"
      ],
      "id": "3bd60b2d"
    },
    {
      "cell_type": "markdown",
      "metadata": {
        "id": "db9bf420"
      },
      "source": [
        "To ensure that Liberty Mutual’s portfolio of home insurance policies aligns with their business goals, many newly insured properties receive a home inspection. These inspections review the condition of key attributes of the property, including things like the foundation, roof, windows and siding. The results of an inspection help Liberty Mutual determine if the property is one they want to insure.\n",
        "\n",
        "In this challenge, your task is to predict a transformed count of hazards or pre-existing damages using a dataset of property information. This will enable Liberty Mutual to more accurately identify high risk homes that require additional examination to confirm their insurability."
      ],
      "id": "db9bf420"
    },
    {
      "cell_type": "markdown",
      "metadata": {
        "id": "9c57fdee"
      },
      "source": [
        "<a id=section2></a>\n",
        "# 2. Problem Statement"
      ],
      "id": "9c57fdee"
    },
    {
      "cell_type": "markdown",
      "metadata": {
        "id": "19b78784"
      },
      "source": [
        " "
      ],
      "id": "19b78784"
    },
    {
      "cell_type": "markdown",
      "metadata": {
        "id": "5c961e64"
      },
      "source": [
        "<a id=section3></a>\n",
        "# 3. Data Loading and Description"
      ],
      "id": "5c961e64"
    },
    {
      "cell_type": "markdown",
      "metadata": {
        "id": "259daa27"
      },
      "source": [
        "<h4>Importing Packages</h4>"
      ],
      "id": "259daa27"
    },
    {
      "cell_type": "code",
      "metadata": {
        "id": "b2a5c407"
      },
      "source": [
        "#-------------------------------------------------------------------------------------------------------------------------------\n",
        "import pandas as pd  \n",
        "# Importing for panel data analysis\n",
        "\n",
        "pd.set_option('display.max_columns', None)                            # Unfolding hidden features if the cardinality is high\n",
        "pd.set_option('display.max_colwidth', None)                           # Unfolding the max feature width for better clearity\n",
        "pd.set_option('display.max_rows', None)                               # Unfolding hidden data points if the cardinality is high\n",
        "pd.set_option('mode.chained_assignment', None)                        # Removing restriction over chained assignments operations\n",
        "pd.set_option('display.float_format', lambda x: '%.2f' % x)           # To suppress scientific notation over exponential values\n",
        "#-------------------------------------------------------------------------------------------------------------------------------\n",
        "import numpy as np                                                    # Importing package numpys (For Numerical Python)\n",
        "#-------------------------------------------------------------------------------------------------------------------------------\n",
        "import matplotlib.pyplot as plt                                       # Importing pyplot interface using matplotlib\n",
        "from matplotlib.pylab import rcParams                                 # Backend used for rendering and GUI integration\n",
        "import seaborn as sns                                                 # Importing seaborm library for interactive visualization\n",
        "%matplotlib inline\n",
        "#-------------------------------------------------------------------------------------------------------------------------------\n",
        "\n",
        "from sklearn.metrics import precision_recall_curve                  # For precision and recall metric estimation\n",
        "from sklearn.metrics import classification_report                   # To generate complete report of evaluation metrics\n",
        "from sklearn.metrics import plot_confusion_matrix                   # To plot confusion matrix \n",
        "from sklearn.metrics import accuracy_score,confusion_matrix\n",
        "from sklearn.metrics import f1_score\n",
        "#-------------------------------------------------------------------------------------------------------------------------------\n",
        "from sklearn.preprocessing import StandardScaler                    # For Scaling attributes using Standard Scaler     \n",
        "from sklearn.decomposition import PCA                               # To implement PCA on the dataset\n",
        "\n",
        "from sklearn.model_selection import train_test_split                  # Importing train_test_split to split training and testing set \n",
        "              \n",
        "#-------------------------------------------------------------------------------------------------------------------------------\n",
        "from sklearn.linear_model import LogisticRegression                   # To use Logistic Regression model\n",
        "from sklearn.neighbors import KNeighborsClassifier                    # To use KNN Classifier\n",
        "from sklearn.svm import SVC                                           # To use Support Vector Classifier\n",
        "from sklearn.tree import DecisionTreeClassifier                       # To use Decision Tree Classifier\n",
        "from sklearn.discriminant_analysis import LinearDiscriminantAnalysis  # To apply LDA\n",
        "from sklearn.model_selection import GridSearchCV                      # To use GridSearchCV \n",
        "from sklearn.ensemble import RandomForestClassifier                   # to use Random Forest\n",
        "#-------------------------------------------------------------------------------------------------------------------------------\n",
        "import warnings                                                       # Importing warning to disable runtime warnings\n",
        "warnings.filterwarnings(\"ignore\")                                     # Warnings will appear only once\n",
        "\n",
        "from sklearn import metrics\n"
      ],
      "id": "b2a5c407",
      "execution_count": 1,
      "outputs": []
    },
    {
      "cell_type": "markdown",
      "metadata": {
        "id": "00f18be9"
      },
      "source": [
        "<h4>Data Loading</h4>"
      ],
      "id": "00f18be9"
    },
    {
      "cell_type": "code",
      "metadata": {
        "colab": {
          "base_uri": "https://localhost:8080/"
        },
        "id": "feaf3ccf",
        "outputId": "346cd5ba-4cad-4c61-b048-2e5ed1cb3c19"
      },
      "source": [
        "train = pd.read_csv('https://raw.githubusercontent.com/insaid2018/Term-4/master/Projects/PropertyInspection_train.csv',error_bad_lines=False )\n",
        "train.head()\n",
        "train.shape"
      ],
      "id": "feaf3ccf",
      "execution_count": 2,
      "outputs": [
        {
          "output_type": "execute_result",
          "data": {
            "text/plain": [
              "(50999, 34)"
            ]
          },
          "metadata": {},
          "execution_count": 2
        }
      ]
    },
    {
      "cell_type": "code",
      "metadata": {
        "colab": {
          "base_uri": "https://localhost:8080/",
          "height": 224
        },
        "id": "eadfb3ef",
        "outputId": "67ed6bfe-635d-4197-aa2b-9ed985e51217"
      },
      "source": [
        "train.head()"
      ],
      "id": "eadfb3ef",
      "execution_count": 3,
      "outputs": [
        {
          "output_type": "execute_result",
          "data": {
            "text/html": [
              "<div>\n",
              "<style scoped>\n",
              "    .dataframe tbody tr th:only-of-type {\n",
              "        vertical-align: middle;\n",
              "    }\n",
              "\n",
              "    .dataframe tbody tr th {\n",
              "        vertical-align: top;\n",
              "    }\n",
              "\n",
              "    .dataframe thead th {\n",
              "        text-align: right;\n",
              "    }\n",
              "</style>\n",
              "<table border=\"1\" class=\"dataframe\">\n",
              "  <thead>\n",
              "    <tr style=\"text-align: right;\">\n",
              "      <th></th>\n",
              "      <th>Id</th>\n",
              "      <th>Hazard</th>\n",
              "      <th>T1_V1</th>\n",
              "      <th>T1_V2</th>\n",
              "      <th>T1_V3</th>\n",
              "      <th>T1_V4</th>\n",
              "      <th>T1_V5</th>\n",
              "      <th>T1_V6</th>\n",
              "      <th>T1_V7</th>\n",
              "      <th>T1_V8</th>\n",
              "      <th>T1_V9</th>\n",
              "      <th>T1_V10</th>\n",
              "      <th>T1_V11</th>\n",
              "      <th>T1_V12</th>\n",
              "      <th>T1_V13</th>\n",
              "      <th>T1_V14</th>\n",
              "      <th>T1_V15</th>\n",
              "      <th>T1_V16</th>\n",
              "      <th>T1_V17</th>\n",
              "      <th>T2_V1</th>\n",
              "      <th>T2_V2</th>\n",
              "      <th>T2_V3</th>\n",
              "      <th>T2_V4</th>\n",
              "      <th>T2_V5</th>\n",
              "      <th>T2_V6</th>\n",
              "      <th>T2_V7</th>\n",
              "      <th>T2_V8</th>\n",
              "      <th>T2_V9</th>\n",
              "      <th>T2_V10</th>\n",
              "      <th>T2_V11</th>\n",
              "      <th>T2_V12</th>\n",
              "      <th>T2_V13</th>\n",
              "      <th>T2_V14</th>\n",
              "      <th>T2_V15</th>\n",
              "    </tr>\n",
              "  </thead>\n",
              "  <tbody>\n",
              "    <tr>\n",
              "      <th>0</th>\n",
              "      <td>1</td>\n",
              "      <td>1</td>\n",
              "      <td>15</td>\n",
              "      <td>3</td>\n",
              "      <td>2</td>\n",
              "      <td>N</td>\n",
              "      <td>B</td>\n",
              "      <td>N</td>\n",
              "      <td>B</td>\n",
              "      <td>B</td>\n",
              "      <td>D</td>\n",
              "      <td>7</td>\n",
              "      <td>B</td>\n",
              "      <td>B</td>\n",
              "      <td>15</td>\n",
              "      <td>1</td>\n",
              "      <td>A</td>\n",
              "      <td>B</td>\n",
              "      <td>N</td>\n",
              "      <td>36</td>\n",
              "      <td>11</td>\n",
              "      <td>N</td>\n",
              "      <td>10</td>\n",
              "      <td>B</td>\n",
              "      <td>2</td>\n",
              "      <td>37</td>\n",
              "      <td>1</td>\n",
              "      <td>11</td>\n",
              "      <td>6</td>\n",
              "      <td>Y</td>\n",
              "      <td>N</td>\n",
              "      <td>E</td>\n",
              "      <td>2</td>\n",
              "      <td>2</td>\n",
              "    </tr>\n",
              "    <tr>\n",
              "      <th>1</th>\n",
              "      <td>2</td>\n",
              "      <td>4</td>\n",
              "      <td>16</td>\n",
              "      <td>14</td>\n",
              "      <td>5</td>\n",
              "      <td>H</td>\n",
              "      <td>B</td>\n",
              "      <td>N</td>\n",
              "      <td>B</td>\n",
              "      <td>B</td>\n",
              "      <td>C</td>\n",
              "      <td>12</td>\n",
              "      <td>B</td>\n",
              "      <td>B</td>\n",
              "      <td>10</td>\n",
              "      <td>3</td>\n",
              "      <td>A</td>\n",
              "      <td>B</td>\n",
              "      <td>Y</td>\n",
              "      <td>78</td>\n",
              "      <td>10</td>\n",
              "      <td>Y</td>\n",
              "      <td>17</td>\n",
              "      <td>C</td>\n",
              "      <td>2</td>\n",
              "      <td>22</td>\n",
              "      <td>1</td>\n",
              "      <td>18</td>\n",
              "      <td>5</td>\n",
              "      <td>Y</td>\n",
              "      <td>Y</td>\n",
              "      <td>E</td>\n",
              "      <td>2</td>\n",
              "      <td>1</td>\n",
              "    </tr>\n",
              "    <tr>\n",
              "      <th>2</th>\n",
              "      <td>3</td>\n",
              "      <td>1</td>\n",
              "      <td>10</td>\n",
              "      <td>10</td>\n",
              "      <td>5</td>\n",
              "      <td>N</td>\n",
              "      <td>K</td>\n",
              "      <td>N</td>\n",
              "      <td>B</td>\n",
              "      <td>B</td>\n",
              "      <td>E</td>\n",
              "      <td>12</td>\n",
              "      <td>H</td>\n",
              "      <td>B</td>\n",
              "      <td>15</td>\n",
              "      <td>1</td>\n",
              "      <td>A</td>\n",
              "      <td>R</td>\n",
              "      <td>Y</td>\n",
              "      <td>71</td>\n",
              "      <td>21</td>\n",
              "      <td>Y</td>\n",
              "      <td>13</td>\n",
              "      <td>C</td>\n",
              "      <td>6</td>\n",
              "      <td>37</td>\n",
              "      <td>2</td>\n",
              "      <td>14</td>\n",
              "      <td>6</td>\n",
              "      <td>Y</td>\n",
              "      <td>Y</td>\n",
              "      <td>E</td>\n",
              "      <td>6</td>\n",
              "      <td>1</td>\n",
              "    </tr>\n",
              "    <tr>\n",
              "      <th>3</th>\n",
              "      <td>4</td>\n",
              "      <td>1</td>\n",
              "      <td>18</td>\n",
              "      <td>18</td>\n",
              "      <td>5</td>\n",
              "      <td>N</td>\n",
              "      <td>K</td>\n",
              "      <td>N</td>\n",
              "      <td>B</td>\n",
              "      <td>B</td>\n",
              "      <td>E</td>\n",
              "      <td>3</td>\n",
              "      <td>H</td>\n",
              "      <td>B</td>\n",
              "      <td>15</td>\n",
              "      <td>1</td>\n",
              "      <td>A</td>\n",
              "      <td>R</td>\n",
              "      <td>N</td>\n",
              "      <td>71</td>\n",
              "      <td>13</td>\n",
              "      <td>N</td>\n",
              "      <td>15</td>\n",
              "      <td>A</td>\n",
              "      <td>2</td>\n",
              "      <td>25</td>\n",
              "      <td>1</td>\n",
              "      <td>1</td>\n",
              "      <td>6</td>\n",
              "      <td>Y</td>\n",
              "      <td>N</td>\n",
              "      <td>C</td>\n",
              "      <td>2</td>\n",
              "      <td>6</td>\n",
              "    </tr>\n",
              "    <tr>\n",
              "      <th>4</th>\n",
              "      <td>5</td>\n",
              "      <td>1</td>\n",
              "      <td>13</td>\n",
              "      <td>19</td>\n",
              "      <td>5</td>\n",
              "      <td>N</td>\n",
              "      <td>H</td>\n",
              "      <td>N</td>\n",
              "      <td>B</td>\n",
              "      <td>B</td>\n",
              "      <td>E</td>\n",
              "      <td>7</td>\n",
              "      <td>H</td>\n",
              "      <td>B</td>\n",
              "      <td>10</td>\n",
              "      <td>1</td>\n",
              "      <td>A</td>\n",
              "      <td>J</td>\n",
              "      <td>N</td>\n",
              "      <td>75</td>\n",
              "      <td>10</td>\n",
              "      <td>Y</td>\n",
              "      <td>11</td>\n",
              "      <td>B</td>\n",
              "      <td>1</td>\n",
              "      <td>22</td>\n",
              "      <td>1</td>\n",
              "      <td>2</td>\n",
              "      <td>7</td>\n",
              "      <td>N</td>\n",
              "      <td>N</td>\n",
              "      <td>E</td>\n",
              "      <td>1</td>\n",
              "      <td>1</td>\n",
              "    </tr>\n",
              "  </tbody>\n",
              "</table>\n",
              "</div>"
            ],
            "text/plain": [
              "   Id  Hazard  T1_V1  T1_V2  T1_V3 T1_V4 T1_V5 T1_V6 T1_V7 T1_V8 T1_V9  \\\n",
              "0   1       1     15      3      2     N     B     N     B     B     D   \n",
              "1   2       4     16     14      5     H     B     N     B     B     C   \n",
              "2   3       1     10     10      5     N     K     N     B     B     E   \n",
              "3   4       1     18     18      5     N     K     N     B     B     E   \n",
              "4   5       1     13     19      5     N     H     N     B     B     E   \n",
              "\n",
              "   T1_V10 T1_V11 T1_V12  T1_V13  T1_V14 T1_V15 T1_V16 T1_V17  T2_V1  T2_V2  \\\n",
              "0       7      B      B      15       1      A      B      N     36     11   \n",
              "1      12      B      B      10       3      A      B      Y     78     10   \n",
              "2      12      H      B      15       1      A      R      Y     71     21   \n",
              "3       3      H      B      15       1      A      R      N     71     13   \n",
              "4       7      H      B      10       1      A      J      N     75     10   \n",
              "\n",
              "  T2_V3  T2_V4 T2_V5  T2_V6  T2_V7  T2_V8  T2_V9  T2_V10 T2_V11 T2_V12 T2_V13  \\\n",
              "0     N     10     B      2     37      1     11       6      Y      N      E   \n",
              "1     Y     17     C      2     22      1     18       5      Y      Y      E   \n",
              "2     Y     13     C      6     37      2     14       6      Y      Y      E   \n",
              "3     N     15     A      2     25      1      1       6      Y      N      C   \n",
              "4     Y     11     B      1     22      1      2       7      N      N      E   \n",
              "\n",
              "   T2_V14  T2_V15  \n",
              "0       2       2  \n",
              "1       2       1  \n",
              "2       6       1  \n",
              "3       2       6  \n",
              "4       1       1  "
            ]
          },
          "metadata": {},
          "execution_count": 3
        }
      ]
    },
    {
      "cell_type": "code",
      "metadata": {
        "colab": {
          "base_uri": "https://localhost:8080/"
        },
        "id": "ba2cb773",
        "outputId": "164db556-f5ca-46b2-f659-e955844bbb12"
      },
      "source": [
        "train.Hazard.nunique()"
      ],
      "id": "ba2cb773",
      "execution_count": 4,
      "outputs": [
        {
          "output_type": "execute_result",
          "data": {
            "text/plain": [
              "50"
            ]
          },
          "metadata": {},
          "execution_count": 4
        }
      ]
    },
    {
      "cell_type": "markdown",
      "metadata": {
        "id": "2079d847"
      },
      "source": [
        "**Hazard which is our target varibale is continuous. Hence, this is regression problem**"
      ],
      "id": "2079d847"
    },
    {
      "cell_type": "markdown",
      "metadata": {
        "id": "4b2ef3a1"
      },
      "source": [
        "Profiling using Dtale"
      ],
      "id": "4b2ef3a1"
    },
    {
      "cell_type": "code",
      "metadata": {
        "id": "c01a0d7c"
      },
      "source": [
        "#import dtale\n",
        "\n",
        "#import pandas as pd\n",
        "#d = dtale.show(train)\n",
        "#d.open_browser()"
      ],
      "id": "c01a0d7c",
      "execution_count": 5,
      "outputs": []
    },
    {
      "cell_type": "code",
      "metadata": {
        "colab": {
          "base_uri": "https://localhost:8080/"
        },
        "id": "0fda1487",
        "outputId": "e66e5fd5-b9c6-4080-de40-3dfd8b643eca"
      },
      "source": [
        "train.Hazard.value_counts()"
      ],
      "id": "0fda1487",
      "execution_count": 6,
      "outputs": [
        {
          "output_type": "execute_result",
          "data": {
            "text/plain": [
              "1     18981\n",
              "4      8273\n",
              "2      6145\n",
              "5      3645\n",
              "7      3284\n",
              "3      2025\n",
              "8      1783\n",
              "6      1407\n",
              "10     1311\n",
              "11      800\n",
              "9       739\n",
              "13      560\n",
              "14      389\n",
              "12      379\n",
              "16      235\n",
              "17      194\n",
              "15      174\n",
              "19      138\n",
              "18      103\n",
              "20       98\n",
              "22       71\n",
              "25       44\n",
              "23       42\n",
              "28       32\n",
              "21       31\n",
              "26       25\n",
              "24       14\n",
              "29       14\n",
              "30        9\n",
              "31        8\n",
              "34        8\n",
              "32        6\n",
              "27        5\n",
              "42        4\n",
              "40        2\n",
              "37        2\n",
              "35        2\n",
              "36        2\n",
              "46        2\n",
              "38        2\n",
              "41        2\n",
              "44        1\n",
              "69        1\n",
              "39        1\n",
              "49        1\n",
              "51        1\n",
              "52        1\n",
              "33        1\n",
              "64        1\n",
              "63        1\n",
              "Name: Hazard, dtype: int64"
            ]
          },
          "metadata": {},
          "execution_count": 6
        }
      ]
    },
    {
      "cell_type": "markdown",
      "metadata": {
        "id": "e5e2e885"
      },
      "source": [
        "**Data is Right Skewed**"
      ],
      "id": "e5e2e885"
    },
    {
      "cell_type": "markdown",
      "metadata": {
        "id": "9372a81d"
      },
      "source": [
        "## Data Analysis"
      ],
      "id": "9372a81d"
    },
    {
      "cell_type": "markdown",
      "metadata": {
        "id": "78f16581"
      },
      "source": [
        "In Data Analysis,  we will analyse\n",
        "- Missing Values\n",
        "- All The Numerical Variables\n",
        "- Distribution of the Numerical Variables\n",
        "- Categorical Variables\n",
        "- Cardinality of Categorical Variables\n",
        "- Outliers\n",
        "- Relationship between independent and dependent feature(Hazard)"
      ],
      "id": "78f16581"
    },
    {
      "cell_type": "markdown",
      "metadata": {
        "id": "b1c3ec65"
      },
      "source": [
        "### 1. Missing Values"
      ],
      "id": "b1c3ec65"
    },
    {
      "cell_type": "code",
      "metadata": {
        "id": "6dc8cbd3"
      },
      "source": [
        "## Here we will check the percentage of nan values present in each feature\n",
        "## 1 -step make the list of features which has missing values\n",
        "features_with_na=[features for features in train.columns if train[features].isnull().sum()>1]\n",
        "## 2- step print the feature name and the percentage of missing values\n",
        "\n",
        "for feature in features_with_na:\n",
        "    print(feature, np.round(train[feature].isnull().mean(), 4),  ' % missing values')"
      ],
      "id": "6dc8cbd3",
      "execution_count": 7,
      "outputs": []
    },
    {
      "cell_type": "markdown",
      "metadata": {
        "id": "9471c828"
      },
      "source": [
        "**No missing values found**"
      ],
      "id": "9471c828"
    },
    {
      "cell_type": "markdown",
      "metadata": {
        "id": "b96a5bec"
      },
      "source": [
        "###  2. Numeric Variables"
      ],
      "id": "b96a5bec"
    },
    {
      "cell_type": "code",
      "metadata": {
        "colab": {
          "base_uri": "https://localhost:8080/",
          "height": 0
        },
        "id": "a4470b34",
        "outputId": "99526de9-a37a-46db-ccd6-1a72b11101b7"
      },
      "source": [
        "\n",
        "# list of numerical variables\n",
        "numerical_features = [feature for feature in train.columns if train[feature].dtypes != 'O']\n",
        "\n",
        "print('Number of numerical variables: ', len(numerical_features))\n",
        "\n",
        "# visualise the numerical variables\n",
        "train[numerical_features].head()"
      ],
      "id": "a4470b34",
      "execution_count": 8,
      "outputs": [
        {
          "output_type": "stream",
          "name": "stdout",
          "text": [
            "Number of numerical variables:  18\n"
          ]
        },
        {
          "output_type": "execute_result",
          "data": {
            "text/html": [
              "<div>\n",
              "<style scoped>\n",
              "    .dataframe tbody tr th:only-of-type {\n",
              "        vertical-align: middle;\n",
              "    }\n",
              "\n",
              "    .dataframe tbody tr th {\n",
              "        vertical-align: top;\n",
              "    }\n",
              "\n",
              "    .dataframe thead th {\n",
              "        text-align: right;\n",
              "    }\n",
              "</style>\n",
              "<table border=\"1\" class=\"dataframe\">\n",
              "  <thead>\n",
              "    <tr style=\"text-align: right;\">\n",
              "      <th></th>\n",
              "      <th>Id</th>\n",
              "      <th>Hazard</th>\n",
              "      <th>T1_V1</th>\n",
              "      <th>T1_V2</th>\n",
              "      <th>T1_V3</th>\n",
              "      <th>T1_V10</th>\n",
              "      <th>T1_V13</th>\n",
              "      <th>T1_V14</th>\n",
              "      <th>T2_V1</th>\n",
              "      <th>T2_V2</th>\n",
              "      <th>T2_V4</th>\n",
              "      <th>T2_V6</th>\n",
              "      <th>T2_V7</th>\n",
              "      <th>T2_V8</th>\n",
              "      <th>T2_V9</th>\n",
              "      <th>T2_V10</th>\n",
              "      <th>T2_V14</th>\n",
              "      <th>T2_V15</th>\n",
              "    </tr>\n",
              "  </thead>\n",
              "  <tbody>\n",
              "    <tr>\n",
              "      <th>0</th>\n",
              "      <td>1</td>\n",
              "      <td>1</td>\n",
              "      <td>15</td>\n",
              "      <td>3</td>\n",
              "      <td>2</td>\n",
              "      <td>7</td>\n",
              "      <td>15</td>\n",
              "      <td>1</td>\n",
              "      <td>36</td>\n",
              "      <td>11</td>\n",
              "      <td>10</td>\n",
              "      <td>2</td>\n",
              "      <td>37</td>\n",
              "      <td>1</td>\n",
              "      <td>11</td>\n",
              "      <td>6</td>\n",
              "      <td>2</td>\n",
              "      <td>2</td>\n",
              "    </tr>\n",
              "    <tr>\n",
              "      <th>1</th>\n",
              "      <td>2</td>\n",
              "      <td>4</td>\n",
              "      <td>16</td>\n",
              "      <td>14</td>\n",
              "      <td>5</td>\n",
              "      <td>12</td>\n",
              "      <td>10</td>\n",
              "      <td>3</td>\n",
              "      <td>78</td>\n",
              "      <td>10</td>\n",
              "      <td>17</td>\n",
              "      <td>2</td>\n",
              "      <td>22</td>\n",
              "      <td>1</td>\n",
              "      <td>18</td>\n",
              "      <td>5</td>\n",
              "      <td>2</td>\n",
              "      <td>1</td>\n",
              "    </tr>\n",
              "    <tr>\n",
              "      <th>2</th>\n",
              "      <td>3</td>\n",
              "      <td>1</td>\n",
              "      <td>10</td>\n",
              "      <td>10</td>\n",
              "      <td>5</td>\n",
              "      <td>12</td>\n",
              "      <td>15</td>\n",
              "      <td>1</td>\n",
              "      <td>71</td>\n",
              "      <td>21</td>\n",
              "      <td>13</td>\n",
              "      <td>6</td>\n",
              "      <td>37</td>\n",
              "      <td>2</td>\n",
              "      <td>14</td>\n",
              "      <td>6</td>\n",
              "      <td>6</td>\n",
              "      <td>1</td>\n",
              "    </tr>\n",
              "    <tr>\n",
              "      <th>3</th>\n",
              "      <td>4</td>\n",
              "      <td>1</td>\n",
              "      <td>18</td>\n",
              "      <td>18</td>\n",
              "      <td>5</td>\n",
              "      <td>3</td>\n",
              "      <td>15</td>\n",
              "      <td>1</td>\n",
              "      <td>71</td>\n",
              "      <td>13</td>\n",
              "      <td>15</td>\n",
              "      <td>2</td>\n",
              "      <td>25</td>\n",
              "      <td>1</td>\n",
              "      <td>1</td>\n",
              "      <td>6</td>\n",
              "      <td>2</td>\n",
              "      <td>6</td>\n",
              "    </tr>\n",
              "    <tr>\n",
              "      <th>4</th>\n",
              "      <td>5</td>\n",
              "      <td>1</td>\n",
              "      <td>13</td>\n",
              "      <td>19</td>\n",
              "      <td>5</td>\n",
              "      <td>7</td>\n",
              "      <td>10</td>\n",
              "      <td>1</td>\n",
              "      <td>75</td>\n",
              "      <td>10</td>\n",
              "      <td>11</td>\n",
              "      <td>1</td>\n",
              "      <td>22</td>\n",
              "      <td>1</td>\n",
              "      <td>2</td>\n",
              "      <td>7</td>\n",
              "      <td>1</td>\n",
              "      <td>1</td>\n",
              "    </tr>\n",
              "  </tbody>\n",
              "</table>\n",
              "</div>"
            ],
            "text/plain": [
              "   Id  Hazard  T1_V1  T1_V2  T1_V3  T1_V10  T1_V13  T1_V14  T2_V1  T2_V2  \\\n",
              "0   1       1     15      3      2       7      15       1     36     11   \n",
              "1   2       4     16     14      5      12      10       3     78     10   \n",
              "2   3       1     10     10      5      12      15       1     71     21   \n",
              "3   4       1     18     18      5       3      15       1     71     13   \n",
              "4   5       1     13     19      5       7      10       1     75     10   \n",
              "\n",
              "   T2_V4  T2_V6  T2_V7  T2_V8  T2_V9  T2_V10  T2_V14  T2_V15  \n",
              "0     10      2     37      1     11       6       2       2  \n",
              "1     17      2     22      1     18       5       2       1  \n",
              "2     13      6     37      2     14       6       6       1  \n",
              "3     15      2     25      1      1       6       2       6  \n",
              "4     11      1     22      1      2       7       1       1  "
            ]
          },
          "metadata": {},
          "execution_count": 8
        }
      ]
    },
    {
      "cell_type": "markdown",
      "metadata": {
        "id": "a4dc9cf5"
      },
      "source": [
        "There are 18 numerical features. Let us now evaluate discrete and continous in these 18 numerical features"
      ],
      "id": "a4dc9cf5"
    },
    {
      "cell_type": "code",
      "metadata": {
        "colab": {
          "base_uri": "https://localhost:8080/"
        },
        "id": "9b60d7f1",
        "outputId": "d120d4a3-febf-4afa-970a-7f57f952d6f5"
      },
      "source": [
        "## Numerical variables are usually of 2 type\n",
        "## 1. Continous variable and Discrete Variables\n",
        "\n",
        "discrete_feature=[feature for feature in numerical_features if len(train[feature].unique())<25 and feature not in ['Id']]\n",
        "print(\"Discrete Variables Count: {}\".format(len(discrete_feature)))\n"
      ],
      "id": "9b60d7f1",
      "execution_count": 9,
      "outputs": [
        {
          "output_type": "stream",
          "name": "stdout",
          "text": [
            "Discrete Variables Count: 13\n"
          ]
        }
      ]
    },
    {
      "cell_type": "markdown",
      "metadata": {
        "id": "b97e44f0"
      },
      "source": [
        "Out of 18 numerical features, 13 are discrete variables"
      ],
      "id": "b97e44f0"
    },
    {
      "cell_type": "code",
      "metadata": {
        "colab": {
          "base_uri": "https://localhost:8080/"
        },
        "id": "db8d0ed4",
        "outputId": "f384ee37-a4a5-419d-a545-0050d206c6f3"
      },
      "source": [
        "\n",
        "discrete_feature"
      ],
      "id": "db8d0ed4",
      "execution_count": 10,
      "outputs": [
        {
          "output_type": "execute_result",
          "data": {
            "text/plain": [
              "['T1_V1',\n",
              " 'T1_V2',\n",
              " 'T1_V3',\n",
              " 'T1_V10',\n",
              " 'T1_V13',\n",
              " 'T1_V14',\n",
              " 'T2_V4',\n",
              " 'T2_V6',\n",
              " 'T2_V7',\n",
              " 'T2_V8',\n",
              " 'T2_V10',\n",
              " 'T2_V14',\n",
              " 'T2_V15']"
            ]
          },
          "metadata": {},
          "execution_count": 10
        }
      ]
    },
    {
      "cell_type": "code",
      "metadata": {
        "colab": {
          "base_uri": "https://localhost:8080/",
          "height": 0
        },
        "id": "8297e011",
        "outputId": "524ad0a1-cea3-464b-f33d-c3d87c96e964"
      },
      "source": [
        "print(train[discrete_feature].nunique())\n",
        "train[discrete_feature].head()"
      ],
      "id": "8297e011",
      "execution_count": 11,
      "outputs": [
        {
          "output_type": "stream",
          "name": "stdout",
          "text": [
            "T1_V1     19\n",
            "T1_V2     24\n",
            "T1_V3      9\n",
            "T1_V10     5\n",
            "T1_V13     4\n",
            "T1_V14     5\n",
            "T2_V4     22\n",
            "T2_V6      7\n",
            "T2_V7      7\n",
            "T2_V8      3\n",
            "T2_V10     7\n",
            "T2_V14     7\n",
            "T2_V15    12\n",
            "dtype: int64\n"
          ]
        },
        {
          "output_type": "execute_result",
          "data": {
            "text/html": [
              "<div>\n",
              "<style scoped>\n",
              "    .dataframe tbody tr th:only-of-type {\n",
              "        vertical-align: middle;\n",
              "    }\n",
              "\n",
              "    .dataframe tbody tr th {\n",
              "        vertical-align: top;\n",
              "    }\n",
              "\n",
              "    .dataframe thead th {\n",
              "        text-align: right;\n",
              "    }\n",
              "</style>\n",
              "<table border=\"1\" class=\"dataframe\">\n",
              "  <thead>\n",
              "    <tr style=\"text-align: right;\">\n",
              "      <th></th>\n",
              "      <th>T1_V1</th>\n",
              "      <th>T1_V2</th>\n",
              "      <th>T1_V3</th>\n",
              "      <th>T1_V10</th>\n",
              "      <th>T1_V13</th>\n",
              "      <th>T1_V14</th>\n",
              "      <th>T2_V4</th>\n",
              "      <th>T2_V6</th>\n",
              "      <th>T2_V7</th>\n",
              "      <th>T2_V8</th>\n",
              "      <th>T2_V10</th>\n",
              "      <th>T2_V14</th>\n",
              "      <th>T2_V15</th>\n",
              "    </tr>\n",
              "  </thead>\n",
              "  <tbody>\n",
              "    <tr>\n",
              "      <th>0</th>\n",
              "      <td>15</td>\n",
              "      <td>3</td>\n",
              "      <td>2</td>\n",
              "      <td>7</td>\n",
              "      <td>15</td>\n",
              "      <td>1</td>\n",
              "      <td>10</td>\n",
              "      <td>2</td>\n",
              "      <td>37</td>\n",
              "      <td>1</td>\n",
              "      <td>6</td>\n",
              "      <td>2</td>\n",
              "      <td>2</td>\n",
              "    </tr>\n",
              "    <tr>\n",
              "      <th>1</th>\n",
              "      <td>16</td>\n",
              "      <td>14</td>\n",
              "      <td>5</td>\n",
              "      <td>12</td>\n",
              "      <td>10</td>\n",
              "      <td>3</td>\n",
              "      <td>17</td>\n",
              "      <td>2</td>\n",
              "      <td>22</td>\n",
              "      <td>1</td>\n",
              "      <td>5</td>\n",
              "      <td>2</td>\n",
              "      <td>1</td>\n",
              "    </tr>\n",
              "    <tr>\n",
              "      <th>2</th>\n",
              "      <td>10</td>\n",
              "      <td>10</td>\n",
              "      <td>5</td>\n",
              "      <td>12</td>\n",
              "      <td>15</td>\n",
              "      <td>1</td>\n",
              "      <td>13</td>\n",
              "      <td>6</td>\n",
              "      <td>37</td>\n",
              "      <td>2</td>\n",
              "      <td>6</td>\n",
              "      <td>6</td>\n",
              "      <td>1</td>\n",
              "    </tr>\n",
              "    <tr>\n",
              "      <th>3</th>\n",
              "      <td>18</td>\n",
              "      <td>18</td>\n",
              "      <td>5</td>\n",
              "      <td>3</td>\n",
              "      <td>15</td>\n",
              "      <td>1</td>\n",
              "      <td>15</td>\n",
              "      <td>2</td>\n",
              "      <td>25</td>\n",
              "      <td>1</td>\n",
              "      <td>6</td>\n",
              "      <td>2</td>\n",
              "      <td>6</td>\n",
              "    </tr>\n",
              "    <tr>\n",
              "      <th>4</th>\n",
              "      <td>13</td>\n",
              "      <td>19</td>\n",
              "      <td>5</td>\n",
              "      <td>7</td>\n",
              "      <td>10</td>\n",
              "      <td>1</td>\n",
              "      <td>11</td>\n",
              "      <td>1</td>\n",
              "      <td>22</td>\n",
              "      <td>1</td>\n",
              "      <td>7</td>\n",
              "      <td>1</td>\n",
              "      <td>1</td>\n",
              "    </tr>\n",
              "  </tbody>\n",
              "</table>\n",
              "</div>"
            ],
            "text/plain": [
              "   T1_V1  T1_V2  T1_V3  T1_V10  T1_V13  T1_V14  T2_V4  T2_V6  T2_V7  T2_V8  \\\n",
              "0     15      3      2       7      15       1     10      2     37      1   \n",
              "1     16     14      5      12      10       3     17      2     22      1   \n",
              "2     10     10      5      12      15       1     13      6     37      2   \n",
              "3     18     18      5       3      15       1     15      2     25      1   \n",
              "4     13     19      5       7      10       1     11      1     22      1   \n",
              "\n",
              "   T2_V10  T2_V14  T2_V15  \n",
              "0       6       2       2  \n",
              "1       5       2       1  \n",
              "2       6       6       1  \n",
              "3       6       2       6  \n",
              "4       7       1       1  "
            ]
          },
          "metadata": {},
          "execution_count": 11
        }
      ]
    },
    {
      "cell_type": "code",
      "metadata": {
        "colab": {
          "base_uri": "https://localhost:8080/",
          "height": 0
        },
        "id": "e34eff88",
        "outputId": "25792543-cf76-4f14-9dea-777a264846aa"
      },
      "source": [
        "\n",
        "sns.pairplot(train[discrete_feature],diag_kind='kde')"
      ],
      "id": "e34eff88",
      "execution_count": 12,
      "outputs": [
        {
          "output_type": "execute_result",
          "data": {
            "text/plain": [
              "<seaborn.axisgrid.PairGrid at 0x7f922df17e90>"
            ]
          },
          "metadata": {},
          "execution_count": 12
        },
        {
          "output_type": "display_data",
          "data": {
            "image/png": "[encoded data removed]",
            "text/plain": [
              "<Figure size 2340x2340 with 182 Axes>"
            ]
          },
          "metadata": {
            "needs_background": "light"
          }
        }
      ]
    },
    {
      "cell_type": "code",
      "metadata": {
        "colab": {
          "base_uri": "https://localhost:8080/",
          "height": 0
        },
        "id": "66c66d22",
        "outputId": "d44e82ba-07ae-4583-8a6d-2ab78524e542"
      },
      "source": [
        "train[train['Hazard']>10].head()"
      ],
      "id": "66c66d22",
      "execution_count": 13,
      "outputs": [
        {
          "output_type": "execute_result",
          "data": {
            "text/html": [
              "<div>\n",
              "<style scoped>\n",
              "    .dataframe tbody tr th:only-of-type {\n",
              "        vertical-align: middle;\n",
              "    }\n",
              "\n",
              "    .dataframe tbody tr th {\n",
              "        vertical-align: top;\n",
              "    }\n",
              "\n",
              "    .dataframe thead th {\n",
              "        text-align: right;\n",
              "    }\n",
              "</style>\n",
              "<table border=\"1\" class=\"dataframe\">\n",
              "  <thead>\n",
              "    <tr style=\"text-align: right;\">\n",
              "      <th></th>\n",
              "      <th>Id</th>\n",
              "      <th>Hazard</th>\n",
              "      <th>T1_V1</th>\n",
              "      <th>T1_V2</th>\n",
              "      <th>T1_V3</th>\n",
              "      <th>T1_V4</th>\n",
              "      <th>T1_V5</th>\n",
              "      <th>T1_V6</th>\n",
              "      <th>T1_V7</th>\n",
              "      <th>T1_V8</th>\n",
              "      <th>T1_V9</th>\n",
              "      <th>T1_V10</th>\n",
              "      <th>T1_V11</th>\n",
              "      <th>T1_V12</th>\n",
              "      <th>T1_V13</th>\n",
              "      <th>T1_V14</th>\n",
              "      <th>T1_V15</th>\n",
              "      <th>T1_V16</th>\n",
              "      <th>T1_V17</th>\n",
              "      <th>T2_V1</th>\n",
              "      <th>T2_V2</th>\n",
              "      <th>T2_V3</th>\n",
              "      <th>T2_V4</th>\n",
              "      <th>T2_V5</th>\n",
              "      <th>T2_V6</th>\n",
              "      <th>T2_V7</th>\n",
              "      <th>T2_V8</th>\n",
              "      <th>T2_V9</th>\n",
              "      <th>T2_V10</th>\n",
              "      <th>T2_V11</th>\n",
              "      <th>T2_V12</th>\n",
              "      <th>T2_V13</th>\n",
              "      <th>T2_V14</th>\n",
              "      <th>T2_V15</th>\n",
              "    </tr>\n",
              "  </thead>\n",
              "  <tbody>\n",
              "    <tr>\n",
              "      <th>11</th>\n",
              "      <td>24</td>\n",
              "      <td>15</td>\n",
              "      <td>18</td>\n",
              "      <td>15</td>\n",
              "      <td>4</td>\n",
              "      <td>N</td>\n",
              "      <td>H</td>\n",
              "      <td>Y</td>\n",
              "      <td>B</td>\n",
              "      <td>B</td>\n",
              "      <td>E</td>\n",
              "      <td>3</td>\n",
              "      <td>M</td>\n",
              "      <td>B</td>\n",
              "      <td>15</td>\n",
              "      <td>1</td>\n",
              "      <td>A</td>\n",
              "      <td>R</td>\n",
              "      <td>N</td>\n",
              "      <td>23</td>\n",
              "      <td>7</td>\n",
              "      <td>Y</td>\n",
              "      <td>5</td>\n",
              "      <td>B</td>\n",
              "      <td>2</td>\n",
              "      <td>34</td>\n",
              "      <td>1</td>\n",
              "      <td>1</td>\n",
              "      <td>2</td>\n",
              "      <td>Y</td>\n",
              "      <td>N</td>\n",
              "      <td>E</td>\n",
              "      <td>2</td>\n",
              "      <td>4</td>\n",
              "    </tr>\n",
              "    <tr>\n",
              "      <th>14</th>\n",
              "      <td>31</td>\n",
              "      <td>14</td>\n",
              "      <td>11</td>\n",
              "      <td>23</td>\n",
              "      <td>2</td>\n",
              "      <td>N</td>\n",
              "      <td>K</td>\n",
              "      <td>N</td>\n",
              "      <td>B</td>\n",
              "      <td>B</td>\n",
              "      <td>E</td>\n",
              "      <td>3</td>\n",
              "      <td>H</td>\n",
              "      <td>B</td>\n",
              "      <td>20</td>\n",
              "      <td>1</td>\n",
              "      <td>A</td>\n",
              "      <td>K</td>\n",
              "      <td>N</td>\n",
              "      <td>41</td>\n",
              "      <td>11</td>\n",
              "      <td>N</td>\n",
              "      <td>15</td>\n",
              "      <td>A</td>\n",
              "      <td>1</td>\n",
              "      <td>40</td>\n",
              "      <td>1</td>\n",
              "      <td>18</td>\n",
              "      <td>3</td>\n",
              "      <td>Y</td>\n",
              "      <td>N</td>\n",
              "      <td>E</td>\n",
              "      <td>1</td>\n",
              "      <td>1</td>\n",
              "    </tr>\n",
              "    <tr>\n",
              "      <th>23</th>\n",
              "      <td>58</td>\n",
              "      <td>16</td>\n",
              "      <td>9</td>\n",
              "      <td>5</td>\n",
              "      <td>2</td>\n",
              "      <td>N</td>\n",
              "      <td>K</td>\n",
              "      <td>N</td>\n",
              "      <td>B</td>\n",
              "      <td>B</td>\n",
              "      <td>E</td>\n",
              "      <td>8</td>\n",
              "      <td>M</td>\n",
              "      <td>B</td>\n",
              "      <td>15</td>\n",
              "      <td>3</td>\n",
              "      <td>A</td>\n",
              "      <td>K</td>\n",
              "      <td>N</td>\n",
              "      <td>18</td>\n",
              "      <td>14</td>\n",
              "      <td>N</td>\n",
              "      <td>13</td>\n",
              "      <td>A</td>\n",
              "      <td>2</td>\n",
              "      <td>25</td>\n",
              "      <td>1</td>\n",
              "      <td>21</td>\n",
              "      <td>6</td>\n",
              "      <td>Y</td>\n",
              "      <td>N</td>\n",
              "      <td>E</td>\n",
              "      <td>2</td>\n",
              "      <td>2</td>\n",
              "    </tr>\n",
              "    <tr>\n",
              "      <th>56</th>\n",
              "      <td>129</td>\n",
              "      <td>11</td>\n",
              "      <td>17</td>\n",
              "      <td>17</td>\n",
              "      <td>3</td>\n",
              "      <td>B</td>\n",
              "      <td>B</td>\n",
              "      <td>Y</td>\n",
              "      <td>B</td>\n",
              "      <td>B</td>\n",
              "      <td>D</td>\n",
              "      <td>12</td>\n",
              "      <td>B</td>\n",
              "      <td>B</td>\n",
              "      <td>10</td>\n",
              "      <td>3</td>\n",
              "      <td>A</td>\n",
              "      <td>I</td>\n",
              "      <td>N</td>\n",
              "      <td>46</td>\n",
              "      <td>8</td>\n",
              "      <td>N</td>\n",
              "      <td>13</td>\n",
              "      <td>A</td>\n",
              "      <td>2</td>\n",
              "      <td>40</td>\n",
              "      <td>1</td>\n",
              "      <td>11</td>\n",
              "      <td>4</td>\n",
              "      <td>Y</td>\n",
              "      <td>N</td>\n",
              "      <td>E</td>\n",
              "      <td>2</td>\n",
              "      <td>3</td>\n",
              "    </tr>\n",
              "    <tr>\n",
              "      <th>60</th>\n",
              "      <td>139</td>\n",
              "      <td>13</td>\n",
              "      <td>8</td>\n",
              "      <td>10</td>\n",
              "      <td>3</td>\n",
              "      <td>N</td>\n",
              "      <td>K</td>\n",
              "      <td>N</td>\n",
              "      <td>A</td>\n",
              "      <td>A</td>\n",
              "      <td>F</td>\n",
              "      <td>12</td>\n",
              "      <td>H</td>\n",
              "      <td>B</td>\n",
              "      <td>15</td>\n",
              "      <td>1</td>\n",
              "      <td>A</td>\n",
              "      <td>N</td>\n",
              "      <td>N</td>\n",
              "      <td>55</td>\n",
              "      <td>11</td>\n",
              "      <td>Y</td>\n",
              "      <td>3</td>\n",
              "      <td>C</td>\n",
              "      <td>1</td>\n",
              "      <td>25</td>\n",
              "      <td>1</td>\n",
              "      <td>23</td>\n",
              "      <td>5</td>\n",
              "      <td>Y</td>\n",
              "      <td>N</td>\n",
              "      <td>E</td>\n",
              "      <td>1</td>\n",
              "      <td>1</td>\n",
              "    </tr>\n",
              "  </tbody>\n",
              "</table>\n",
              "</div>"
            ],
            "text/plain": [
              "     Id  Hazard  T1_V1  T1_V2  T1_V3 T1_V4 T1_V5 T1_V6 T1_V7 T1_V8 T1_V9  \\\n",
              "11   24      15     18     15      4     N     H     Y     B     B     E   \n",
              "14   31      14     11     23      2     N     K     N     B     B     E   \n",
              "23   58      16      9      5      2     N     K     N     B     B     E   \n",
              "56  129      11     17     17      3     B     B     Y     B     B     D   \n",
              "60  139      13      8     10      3     N     K     N     A     A     F   \n",
              "\n",
              "    T1_V10 T1_V11 T1_V12  T1_V13  T1_V14 T1_V15 T1_V16 T1_V17  T2_V1  T2_V2  \\\n",
              "11       3      M      B      15       1      A      R      N     23      7   \n",
              "14       3      H      B      20       1      A      K      N     41     11   \n",
              "23       8      M      B      15       3      A      K      N     18     14   \n",
              "56      12      B      B      10       3      A      I      N     46      8   \n",
              "60      12      H      B      15       1      A      N      N     55     11   \n",
              "\n",
              "   T2_V3  T2_V4 T2_V5  T2_V6  T2_V7  T2_V8  T2_V9  T2_V10 T2_V11 T2_V12  \\\n",
              "11     Y      5     B      2     34      1      1       2      Y      N   \n",
              "14     N     15     A      1     40      1     18       3      Y      N   \n",
              "23     N     13     A      2     25      1     21       6      Y      N   \n",
              "56     N     13     A      2     40      1     11       4      Y      N   \n",
              "60     Y      3     C      1     25      1     23       5      Y      N   \n",
              "\n",
              "   T2_V13  T2_V14  T2_V15  \n",
              "11      E       2       4  \n",
              "14      E       1       1  \n",
              "23      E       2       2  \n",
              "56      E       2       3  \n",
              "60      E       1       1  "
            ]
          },
          "metadata": {},
          "execution_count": 13
        }
      ]
    },
    {
      "cell_type": "markdown",
      "metadata": {
        "id": "6f40339b"
      },
      "source": [
        "#### Continous features\n"
      ],
      "id": "6f40339b"
    },
    {
      "cell_type": "code",
      "metadata": {
        "colab": {
          "base_uri": "https://localhost:8080/"
        },
        "id": "9940b971",
        "outputId": "e2dd196f-97b9-4b6e-ffbc-e584c610d24d"
      },
      "source": [
        "continuous_feature=[feature for feature in numerical_features if feature not in discrete_feature+['Id']]\n",
        "print(\"Continuous feature Count {}\".format(len(continuous_feature)))"
      ],
      "id": "9940b971",
      "execution_count": 14,
      "outputs": [
        {
          "output_type": "stream",
          "name": "stdout",
          "text": [
            "Continuous feature Count 4\n"
          ]
        }
      ]
    },
    {
      "cell_type": "code",
      "metadata": {
        "colab": {
          "base_uri": "https://localhost:8080/",
          "height": 0
        },
        "id": "bee75673",
        "outputId": "5021d55d-70c9-4e3d-920c-c8f4c836aa10"
      },
      "source": [
        "## Lets analyse the continuous values by creating histograms to understand the distribution\n",
        "\n",
        "for feature in continuous_feature:\n",
        "    data=train.copy()\n",
        "    data[feature].hist(bins=25)\n",
        "    plt.xlabel(feature)\n",
        "    plt.ylabel(\"Count\")\n",
        "    plt.title(feature)\n",
        "    plt.show()"
      ],
      "id": "bee75673",
      "execution_count": 15,
      "outputs": [
        {
          "output_type": "display_data",
          "data": {
            "image/png": "[encoded data removed]",
            "text/plain": [
              "<Figure size 432x288 with 1 Axes>"
            ]
          },
          "metadata": {
            "needs_background": "light"
          }
        },
        {
          "output_type": "display_data",
          "data": {
            "image/png": "[encoded data removed]",
            "text/plain": [
              "<Figure size 432x288 with 1 Axes>"
            ]
          },
          "metadata": {
            "needs_background": "light"
          }
        },
        {
          "output_type": "display_data",
          "data": {
            "image/png": "[encoded data removed]",
            "text/plain": [
              "<Figure size 432x288 with 1 Axes>"
            ]
          },
          "metadata": {
            "needs_background": "light"
          }
        },
        {
          "output_type": "display_data",
          "data": {
            "image/png": "[encoded data removed]",
            "text/plain": [
              "<Figure size 432x288 with 1 Axes>"
            ]
          },
          "metadata": {
            "needs_background": "light"
          }
        }
      ]
    },
    {
      "cell_type": "markdown",
      "metadata": {
        "id": "cc21547f"
      },
      "source": [
        "**Continuous variables are not normally distributed**\n",
        "T2_V1, T2_V2, T2_V9 do not have 0 value - so we can use log transformation as these are not normally distributed\n"
      ],
      "id": "cc21547f"
    },
    {
      "cell_type": "markdown",
      "metadata": {
        "id": "43dc7290"
      },
      "source": [
        "#### Outliers"
      ],
      "id": "43dc7290"
    },
    {
      "cell_type": "code",
      "metadata": {
        "colab": {
          "base_uri": "https://localhost:8080/",
          "height": 0
        },
        "id": "00b380ef",
        "outputId": "18a7b257-5a4a-4d8a-a620-ffa48a84b8d2"
      },
      "source": [
        "for feature in continuous_feature:\n",
        "    data=train.copy()\n",
        "    if 0 in data[feature].unique():\n",
        "        pass\n",
        "    else:\n",
        "        data[feature]=np.log(data[feature])\n",
        "        data.boxplot(column=feature)\n",
        "        plt.ylabel(feature)\n",
        "        plt.title(feature)\n",
        "        plt.show()"
      ],
      "id": "00b380ef",
      "execution_count": 16,
      "outputs": [
        {
          "output_type": "display_data",
          "data": {
            "image/png": "[encoded data removed]",
            "text/plain": [
              "<Figure size 432x288 with 1 Axes>"
            ]
          },
          "metadata": {
            "needs_background": "light"
          }
        },
        {
          "output_type": "display_data",
          "data": {
            "image/png": "[encoded data removed]",
            "text/plain": [
              "<Figure size 432x288 with 1 Axes>"
            ]
          },
          "metadata": {
            "needs_background": "light"
          }
        },
        {
          "output_type": "display_data",
          "data": {
            "image/png": "[encoded data removed]",
            "text/plain": [
              "<Figure size 432x288 with 1 Axes>"
            ]
          },
          "metadata": {
            "needs_background": "light"
          }
        },
        {
          "output_type": "display_data",
          "data": {
            "image/png": "[encoded data removed]",
            "text/plain": [
              "<Figure size 432x288 with 1 Axes>"
            ]
          },
          "metadata": {
            "needs_background": "light"
          }
        }
      ]
    },
    {
      "cell_type": "code",
      "metadata": {
        "colab": {
          "base_uri": "https://localhost:8080/",
          "height": 0
        },
        "id": "06b0ce67",
        "outputId": "98418464-489d-49d5-f768-f0694b601d92"
      },
      "source": [
        "'''\n",
        "## We will be using logarithmic transformation\n",
        "\n",
        "\n",
        "for feature in continuous_feature:\n",
        "        data=train.copy()\n",
        "        train[feature]=np.log(train[feature])\n",
        "        plt.scatter(data[feature],data['Hazard'])\n",
        "        plt.xlabel(feature)\n",
        "        plt.ylabel('Hazard')\n",
        "        plt.title(feature)\n",
        "        plt.show()\n",
        "'''"
      ],
      "id": "06b0ce67",
      "execution_count": 17,
      "outputs": [
        {
          "output_type": "execute_result",
          "data": {
            "application/vnd.google.colaboratory.intrinsic+json": {
              "type": "string"
            },
            "text/plain": [
              "\"\\n## We will be using logarithmic transformation\\n\\n\\nfor feature in continuous_feature:\\n        data=train.copy()\\n        train[feature]=np.log(train[feature])\\n        plt.scatter(data[feature],data['Hazard'])\\n        plt.xlabel(feature)\\n        plt.ylabel('Hazard')\\n        plt.title(feature)\\n        plt.show()\\n\""
            ]
          },
          "metadata": {},
          "execution_count": 17
        }
      ]
    },
    {
      "cell_type": "markdown",
      "metadata": {
        "id": "dbce9804"
      },
      "source": [
        "### this shows there is no relation with Target variable "
      ],
      "id": "dbce9804"
    },
    {
      "cell_type": "markdown",
      "metadata": {
        "id": "4dba2cac"
      },
      "source": [
        "**there are outliers for few continuous features**"
      ],
      "id": "4dba2cac"
    },
    {
      "cell_type": "code",
      "metadata": {
        "colab": {
          "base_uri": "https://localhost:8080/",
          "height": 0
        },
        "id": "cb572164",
        "outputId": "42b9a983-5e98-43aa-f300-28aa5f52266c"
      },
      "source": [
        "## Correlation\n",
        "\n",
        "plt.figure(figsize=(20,20))\n",
        "\n",
        "sns.heatmap(train.corr(), annot=True,cmap=\"RdYlGn\")"
      ],
      "id": "cb572164",
      "execution_count": 18,
      "outputs": [
        {
          "output_type": "execute_result",
          "data": {
            "text/plain": [
              "<matplotlib.axes._subplots.AxesSubplot at 0x7f921cbc9390>"
            ]
          },
          "metadata": {},
          "execution_count": 18
        },
        {
          "output_type": "display_data",
          "data": {
            "image/png": "[encoded data removed]",
            "text/plain": [
              "<Figure size 1440x1440 with 2 Axes>"
            ]
          },
          "metadata": {
            "needs_background": "light"
          }
        }
      ]
    },
    {
      "cell_type": "markdown",
      "metadata": {
        "id": "e4979ebc"
      },
      "source": [
        "### Categorial features"
      ],
      "id": "e4979ebc"
    },
    {
      "cell_type": "code",
      "metadata": {
        "colab": {
          "base_uri": "https://localhost:8080/"
        },
        "id": "3ac77c74",
        "outputId": "7dc9c3ba-d0be-4e72-d6bf-a0dea7841067"
      },
      "source": [
        "categorical_features=[feature for feature in train.columns if data[feature].dtypes=='O']\n",
        "print(len(categorical_features))"
      ],
      "id": "3ac77c74",
      "execution_count": 19,
      "outputs": [
        {
          "output_type": "stream",
          "name": "stdout",
          "text": [
            "16\n"
          ]
        }
      ]
    },
    {
      "cell_type": "code",
      "metadata": {
        "colab": {
          "base_uri": "https://localhost:8080/"
        },
        "id": "24e27ce5",
        "outputId": "fb016e54-c371-4e41-fef6-0b097e6d76d4"
      },
      "source": [
        "#lets check cardinality of each of the category i.e how many different category each categorical features has\n",
        "\n",
        "for feature in categorical_features:\n",
        "    print('The feature is {} and number of categories are {}'.format(feature,len(train[feature].unique())))"
      ],
      "id": "24e27ce5",
      "execution_count": 20,
      "outputs": [
        {
          "output_type": "stream",
          "name": "stdout",
          "text": [
            "The feature is T1_V4 and number of categories are 8\n",
            "The feature is T1_V5 and number of categories are 10\n",
            "The feature is T1_V6 and number of categories are 2\n",
            "The feature is T1_V7 and number of categories are 4\n",
            "The feature is T1_V8 and number of categories are 4\n",
            "The feature is T1_V9 and number of categories are 6\n",
            "The feature is T1_V11 and number of categories are 12\n",
            "The feature is T1_V12 and number of categories are 4\n",
            "The feature is T1_V15 and number of categories are 8\n",
            "The feature is T1_V16 and number of categories are 18\n",
            "The feature is T1_V17 and number of categories are 2\n",
            "The feature is T2_V3 and number of categories are 2\n",
            "The feature is T2_V5 and number of categories are 6\n",
            "The feature is T2_V11 and number of categories are 2\n",
            "The feature is T2_V12 and number of categories are 2\n",
            "The feature is T2_V13 and number of categories are 5\n"
          ]
        }
      ]
    },
    {
      "cell_type": "markdown",
      "metadata": {
        "id": "7e14d793"
      },
      "source": [
        "#### Find out the relationship between categorical variable and dependent feature Hazard score"
      ],
      "id": "7e14d793"
    },
    {
      "cell_type": "markdown",
      "metadata": {
        "id": "6be3d75b"
      },
      "source": [
        "## Feature Scaling "
      ],
      "id": "6be3d75b"
    },
    {
      "cell_type": "code",
      "metadata": {
        "id": "ca580118"
      },
      "source": [
        "for feature in categorical_features:\n",
        "    labels_ordered=train.groupby([feature])['Hazard'].mean().sort_values().index\n",
        "    labels_ordered={k:i for i,k in enumerate(labels_ordered,0)}\n",
        "    train[feature]=train[feature].map(labels_ordered)"
      ],
      "id": "ca580118",
      "execution_count": 21,
      "outputs": []
    },
    {
      "cell_type": "code",
      "metadata": {
        "colab": {
          "base_uri": "https://localhost:8080/",
          "height": 0
        },
        "id": "db3c160d",
        "outputId": "2d0e378f-400c-4873-a451-e79ec23150c5"
      },
      "source": [
        "train.head()"
      ],
      "id": "db3c160d",
      "execution_count": 22,
      "outputs": [
        {
          "output_type": "execute_result",
          "data": {
            "text/html": [
              "<div>\n",
              "<style scoped>\n",
              "    .dataframe tbody tr th:only-of-type {\n",
              "        vertical-align: middle;\n",
              "    }\n",
              "\n",
              "    .dataframe tbody tr th {\n",
              "        vertical-align: top;\n",
              "    }\n",
              "\n",
              "    .dataframe thead th {\n",
              "        text-align: right;\n",
              "    }\n",
              "</style>\n",
              "<table border=\"1\" class=\"dataframe\">\n",
              "  <thead>\n",
              "    <tr style=\"text-align: right;\">\n",
              "      <th></th>\n",
              "      <th>Id</th>\n",
              "      <th>Hazard</th>\n",
              "      <th>T1_V1</th>\n",
              "      <th>T1_V2</th>\n",
              "      <th>T1_V3</th>\n",
              "      <th>T1_V4</th>\n",
              "      <th>T1_V5</th>\n",
              "      <th>T1_V6</th>\n",
              "      <th>T1_V7</th>\n",
              "      <th>T1_V8</th>\n",
              "      <th>T1_V9</th>\n",
              "      <th>T1_V10</th>\n",
              "      <th>T1_V11</th>\n",
              "      <th>T1_V12</th>\n",
              "      <th>T1_V13</th>\n",
              "      <th>T1_V14</th>\n",
              "      <th>T1_V15</th>\n",
              "      <th>T1_V16</th>\n",
              "      <th>T1_V17</th>\n",
              "      <th>T2_V1</th>\n",
              "      <th>T2_V2</th>\n",
              "      <th>T2_V3</th>\n",
              "      <th>T2_V4</th>\n",
              "      <th>T2_V5</th>\n",
              "      <th>T2_V6</th>\n",
              "      <th>T2_V7</th>\n",
              "      <th>T2_V8</th>\n",
              "      <th>T2_V9</th>\n",
              "      <th>T2_V10</th>\n",
              "      <th>T2_V11</th>\n",
              "      <th>T2_V12</th>\n",
              "      <th>T2_V13</th>\n",
              "      <th>T2_V14</th>\n",
              "      <th>T2_V15</th>\n",
              "    </tr>\n",
              "  </thead>\n",
              "  <tbody>\n",
              "    <tr>\n",
              "      <th>0</th>\n",
              "      <td>1</td>\n",
              "      <td>1</td>\n",
              "      <td>15</td>\n",
              "      <td>3</td>\n",
              "      <td>2</td>\n",
              "      <td>6</td>\n",
              "      <td>5</td>\n",
              "      <td>1</td>\n",
              "      <td>2</td>\n",
              "      <td>1</td>\n",
              "      <td>2</td>\n",
              "      <td>7</td>\n",
              "      <td>2</td>\n",
              "      <td>1</td>\n",
              "      <td>15</td>\n",
              "      <td>1</td>\n",
              "      <td>5</td>\n",
              "      <td>1</td>\n",
              "      <td>1</td>\n",
              "      <td>36</td>\n",
              "      <td>11</td>\n",
              "      <td>1</td>\n",
              "      <td>10</td>\n",
              "      <td>0</td>\n",
              "      <td>2</td>\n",
              "      <td>37</td>\n",
              "      <td>1</td>\n",
              "      <td>11</td>\n",
              "      <td>6</td>\n",
              "      <td>1</td>\n",
              "      <td>1</td>\n",
              "      <td>1</td>\n",
              "      <td>2</td>\n",
              "      <td>2</td>\n",
              "    </tr>\n",
              "    <tr>\n",
              "      <th>1</th>\n",
              "      <td>2</td>\n",
              "      <td>4</td>\n",
              "      <td>16</td>\n",
              "      <td>14</td>\n",
              "      <td>5</td>\n",
              "      <td>7</td>\n",
              "      <td>5</td>\n",
              "      <td>1</td>\n",
              "      <td>2</td>\n",
              "      <td>1</td>\n",
              "      <td>0</td>\n",
              "      <td>12</td>\n",
              "      <td>2</td>\n",
              "      <td>1</td>\n",
              "      <td>10</td>\n",
              "      <td>3</td>\n",
              "      <td>5</td>\n",
              "      <td>1</td>\n",
              "      <td>0</td>\n",
              "      <td>78</td>\n",
              "      <td>10</td>\n",
              "      <td>0</td>\n",
              "      <td>17</td>\n",
              "      <td>2</td>\n",
              "      <td>2</td>\n",
              "      <td>22</td>\n",
              "      <td>1</td>\n",
              "      <td>18</td>\n",
              "      <td>5</td>\n",
              "      <td>1</td>\n",
              "      <td>0</td>\n",
              "      <td>1</td>\n",
              "      <td>2</td>\n",
              "      <td>1</td>\n",
              "    </tr>\n",
              "    <tr>\n",
              "      <th>2</th>\n",
              "      <td>3</td>\n",
              "      <td>1</td>\n",
              "      <td>10</td>\n",
              "      <td>10</td>\n",
              "      <td>5</td>\n",
              "      <td>6</td>\n",
              "      <td>7</td>\n",
              "      <td>1</td>\n",
              "      <td>2</td>\n",
              "      <td>1</td>\n",
              "      <td>5</td>\n",
              "      <td>12</td>\n",
              "      <td>9</td>\n",
              "      <td>1</td>\n",
              "      <td>15</td>\n",
              "      <td>1</td>\n",
              "      <td>5</td>\n",
              "      <td>12</td>\n",
              "      <td>0</td>\n",
              "      <td>71</td>\n",
              "      <td>21</td>\n",
              "      <td>0</td>\n",
              "      <td>13</td>\n",
              "      <td>2</td>\n",
              "      <td>6</td>\n",
              "      <td>37</td>\n",
              "      <td>2</td>\n",
              "      <td>14</td>\n",
              "      <td>6</td>\n",
              "      <td>1</td>\n",
              "      <td>0</td>\n",
              "      <td>1</td>\n",
              "      <td>6</td>\n",
              "      <td>1</td>\n",
              "    </tr>\n",
              "    <tr>\n",
              "      <th>3</th>\n",
              "      <td>4</td>\n",
              "      <td>1</td>\n",
              "      <td>18</td>\n",
              "      <td>18</td>\n",
              "      <td>5</td>\n",
              "      <td>6</td>\n",
              "      <td>7</td>\n",
              "      <td>1</td>\n",
              "      <td>2</td>\n",
              "      <td>1</td>\n",
              "      <td>5</td>\n",
              "      <td>3</td>\n",
              "      <td>9</td>\n",
              "      <td>1</td>\n",
              "      <td>15</td>\n",
              "      <td>1</td>\n",
              "      <td>5</td>\n",
              "      <td>12</td>\n",
              "      <td>1</td>\n",
              "      <td>71</td>\n",
              "      <td>13</td>\n",
              "      <td>1</td>\n",
              "      <td>15</td>\n",
              "      <td>1</td>\n",
              "      <td>2</td>\n",
              "      <td>25</td>\n",
              "      <td>1</td>\n",
              "      <td>1</td>\n",
              "      <td>6</td>\n",
              "      <td>1</td>\n",
              "      <td>1</td>\n",
              "      <td>2</td>\n",
              "      <td>2</td>\n",
              "      <td>6</td>\n",
              "    </tr>\n",
              "    <tr>\n",
              "      <th>4</th>\n",
              "      <td>5</td>\n",
              "      <td>1</td>\n",
              "      <td>13</td>\n",
              "      <td>19</td>\n",
              "      <td>5</td>\n",
              "      <td>6</td>\n",
              "      <td>3</td>\n",
              "      <td>1</td>\n",
              "      <td>2</td>\n",
              "      <td>1</td>\n",
              "      <td>5</td>\n",
              "      <td>7</td>\n",
              "      <td>9</td>\n",
              "      <td>1</td>\n",
              "      <td>10</td>\n",
              "      <td>1</td>\n",
              "      <td>5</td>\n",
              "      <td>15</td>\n",
              "      <td>1</td>\n",
              "      <td>75</td>\n",
              "      <td>10</td>\n",
              "      <td>0</td>\n",
              "      <td>11</td>\n",
              "      <td>0</td>\n",
              "      <td>1</td>\n",
              "      <td>22</td>\n",
              "      <td>1</td>\n",
              "      <td>2</td>\n",
              "      <td>7</td>\n",
              "      <td>0</td>\n",
              "      <td>1</td>\n",
              "      <td>1</td>\n",
              "      <td>1</td>\n",
              "      <td>1</td>\n",
              "    </tr>\n",
              "  </tbody>\n",
              "</table>\n",
              "</div>"
            ],
            "text/plain": [
              "   Id  Hazard  T1_V1  T1_V2  T1_V3  T1_V4  T1_V5  T1_V6  T1_V7  T1_V8  T1_V9  \\\n",
              "0   1       1     15      3      2      6      5      1      2      1      2   \n",
              "1   2       4     16     14      5      7      5      1      2      1      0   \n",
              "2   3       1     10     10      5      6      7      1      2      1      5   \n",
              "3   4       1     18     18      5      6      7      1      2      1      5   \n",
              "4   5       1     13     19      5      6      3      1      2      1      5   \n",
              "\n",
              "   T1_V10  T1_V11  T1_V12  T1_V13  T1_V14  T1_V15  T1_V16  T1_V17  T2_V1  \\\n",
              "0       7       2       1      15       1       5       1       1     36   \n",
              "1      12       2       1      10       3       5       1       0     78   \n",
              "2      12       9       1      15       1       5      12       0     71   \n",
              "3       3       9       1      15       1       5      12       1     71   \n",
              "4       7       9       1      10       1       5      15       1     75   \n",
              "\n",
              "   T2_V2  T2_V3  T2_V4  T2_V5  T2_V6  T2_V7  T2_V8  T2_V9  T2_V10  T2_V11  \\\n",
              "0     11      1     10      0      2     37      1     11       6       1   \n",
              "1     10      0     17      2      2     22      1     18       5       1   \n",
              "2     21      0     13      2      6     37      2     14       6       1   \n",
              "3     13      1     15      1      2     25      1      1       6       1   \n",
              "4     10      0     11      0      1     22      1      2       7       0   \n",
              "\n",
              "   T2_V12  T2_V13  T2_V14  T2_V15  \n",
              "0       1       1       2       2  \n",
              "1       0       1       2       1  \n",
              "2       0       1       6       1  \n",
              "3       1       2       2       6  \n",
              "4       1       1       1       1  "
            ]
          },
          "metadata": {},
          "execution_count": 22
        }
      ]
    },
    {
      "cell_type": "code",
      "metadata": {
        "id": "f9038b23"
      },
      "source": [
        "def categorize_risk(r):\n",
        "    if r.Hazard > 10:\n",
        "        return 'High'\n",
        "    elif r.Hazard >=3:\n",
        "        return 'Medium'\n",
        "    else:\n",
        "        return 'Low'"
      ],
      "id": "f9038b23",
      "execution_count": 23,
      "outputs": []
    },
    {
      "cell_type": "code",
      "metadata": {
        "id": "181ef0c0"
      },
      "source": [
        "train['Hazard_cat']=train.apply(categorize_risk, axis=1)\n",
        "#carsales_df.apply(categorize_class, axis=1)"
      ],
      "id": "181ef0c0",
      "execution_count": 24,
      "outputs": []
    },
    {
      "cell_type": "code",
      "metadata": {
        "colab": {
          "base_uri": "https://localhost:8080/"
        },
        "id": "3d83a868",
        "outputId": "fcc8f381-1d14-4e07-855b-f7bebb43ffbb"
      },
      "source": [
        "train.Hazard_cat.value_counts()"
      ],
      "id": "3d83a868",
      "execution_count": 25,
      "outputs": [
        {
          "output_type": "execute_result",
          "data": {
            "text/plain": [
              "Low       25126\n",
              "Medium    22467\n",
              "High       3406\n",
              "Name: Hazard_cat, dtype: int64"
            ]
          },
          "metadata": {},
          "execution_count": 25
        }
      ]
    },
    {
      "cell_type": "code",
      "metadata": {
        "id": "b102dcf4"
      },
      "source": [
        "train.drop('Hazard', axis=1, inplace=True)"
      ],
      "id": "b102dcf4",
      "execution_count": 26,
      "outputs": []
    },
    {
      "cell_type": "code",
      "metadata": {
        "colab": {
          "base_uri": "https://localhost:8080/",
          "height": 0
        },
        "id": "d36f72bc",
        "outputId": "02fe7932-17a0-4705-96d6-3ec3d3609583"
      },
      "source": [
        "train.head()"
      ],
      "id": "d36f72bc",
      "execution_count": 27,
      "outputs": [
        {
          "output_type": "execute_result",
          "data": {
            "text/html": [
              "<div>\n",
              "<style scoped>\n",
              "    .dataframe tbody tr th:only-of-type {\n",
              "        vertical-align: middle;\n",
              "    }\n",
              "\n",
              "    .dataframe tbody tr th {\n",
              "        vertical-align: top;\n",
              "    }\n",
              "\n",
              "    .dataframe thead th {\n",
              "        text-align: right;\n",
              "    }\n",
              "</style>\n",
              "<table border=\"1\" class=\"dataframe\">\n",
              "  <thead>\n",
              "    <tr style=\"text-align: right;\">\n",
              "      <th></th>\n",
              "      <th>Id</th>\n",
              "      <th>T1_V1</th>\n",
              "      <th>T1_V2</th>\n",
              "      <th>T1_V3</th>\n",
              "      <th>T1_V4</th>\n",
              "      <th>T1_V5</th>\n",
              "      <th>T1_V6</th>\n",
              "      <th>T1_V7</th>\n",
              "      <th>T1_V8</th>\n",
              "      <th>T1_V9</th>\n",
              "      <th>T1_V10</th>\n",
              "      <th>T1_V11</th>\n",
              "      <th>T1_V12</th>\n",
              "      <th>T1_V13</th>\n",
              "      <th>T1_V14</th>\n",
              "      <th>T1_V15</th>\n",
              "      <th>T1_V16</th>\n",
              "      <th>T1_V17</th>\n",
              "      <th>T2_V1</th>\n",
              "      <th>T2_V2</th>\n",
              "      <th>T2_V3</th>\n",
              "      <th>T2_V4</th>\n",
              "      <th>T2_V5</th>\n",
              "      <th>T2_V6</th>\n",
              "      <th>T2_V7</th>\n",
              "      <th>T2_V8</th>\n",
              "      <th>T2_V9</th>\n",
              "      <th>T2_V10</th>\n",
              "      <th>T2_V11</th>\n",
              "      <th>T2_V12</th>\n",
              "      <th>T2_V13</th>\n",
              "      <th>T2_V14</th>\n",
              "      <th>T2_V15</th>\n",
              "      <th>Hazard_cat</th>\n",
              "    </tr>\n",
              "  </thead>\n",
              "  <tbody>\n",
              "    <tr>\n",
              "      <th>0</th>\n",
              "      <td>1</td>\n",
              "      <td>15</td>\n",
              "      <td>3</td>\n",
              "      <td>2</td>\n",
              "      <td>6</td>\n",
              "      <td>5</td>\n",
              "      <td>1</td>\n",
              "      <td>2</td>\n",
              "      <td>1</td>\n",
              "      <td>2</td>\n",
              "      <td>7</td>\n",
              "      <td>2</td>\n",
              "      <td>1</td>\n",
              "      <td>15</td>\n",
              "      <td>1</td>\n",
              "      <td>5</td>\n",
              "      <td>1</td>\n",
              "      <td>1</td>\n",
              "      <td>36</td>\n",
              "      <td>11</td>\n",
              "      <td>1</td>\n",
              "      <td>10</td>\n",
              "      <td>0</td>\n",
              "      <td>2</td>\n",
              "      <td>37</td>\n",
              "      <td>1</td>\n",
              "      <td>11</td>\n",
              "      <td>6</td>\n",
              "      <td>1</td>\n",
              "      <td>1</td>\n",
              "      <td>1</td>\n",
              "      <td>2</td>\n",
              "      <td>2</td>\n",
              "      <td>Low</td>\n",
              "    </tr>\n",
              "    <tr>\n",
              "      <th>1</th>\n",
              "      <td>2</td>\n",
              "      <td>16</td>\n",
              "      <td>14</td>\n",
              "      <td>5</td>\n",
              "      <td>7</td>\n",
              "      <td>5</td>\n",
              "      <td>1</td>\n",
              "      <td>2</td>\n",
              "      <td>1</td>\n",
              "      <td>0</td>\n",
              "      <td>12</td>\n",
              "      <td>2</td>\n",
              "      <td>1</td>\n",
              "      <td>10</td>\n",
              "      <td>3</td>\n",
              "      <td>5</td>\n",
              "      <td>1</td>\n",
              "      <td>0</td>\n",
              "      <td>78</td>\n",
              "      <td>10</td>\n",
              "      <td>0</td>\n",
              "      <td>17</td>\n",
              "      <td>2</td>\n",
              "      <td>2</td>\n",
              "      <td>22</td>\n",
              "      <td>1</td>\n",
              "      <td>18</td>\n",
              "      <td>5</td>\n",
              "      <td>1</td>\n",
              "      <td>0</td>\n",
              "      <td>1</td>\n",
              "      <td>2</td>\n",
              "      <td>1</td>\n",
              "      <td>Medium</td>\n",
              "    </tr>\n",
              "    <tr>\n",
              "      <th>2</th>\n",
              "      <td>3</td>\n",
              "      <td>10</td>\n",
              "      <td>10</td>\n",
              "      <td>5</td>\n",
              "      <td>6</td>\n",
              "      <td>7</td>\n",
              "      <td>1</td>\n",
              "      <td>2</td>\n",
              "      <td>1</td>\n",
              "      <td>5</td>\n",
              "      <td>12</td>\n",
              "      <td>9</td>\n",
              "      <td>1</td>\n",
              "      <td>15</td>\n",
              "      <td>1</td>\n",
              "      <td>5</td>\n",
              "      <td>12</td>\n",
              "      <td>0</td>\n",
              "      <td>71</td>\n",
              "      <td>21</td>\n",
              "      <td>0</td>\n",
              "      <td>13</td>\n",
              "      <td>2</td>\n",
              "      <td>6</td>\n",
              "      <td>37</td>\n",
              "      <td>2</td>\n",
              "      <td>14</td>\n",
              "      <td>6</td>\n",
              "      <td>1</td>\n",
              "      <td>0</td>\n",
              "      <td>1</td>\n",
              "      <td>6</td>\n",
              "      <td>1</td>\n",
              "      <td>Low</td>\n",
              "    </tr>\n",
              "    <tr>\n",
              "      <th>3</th>\n",
              "      <td>4</td>\n",
              "      <td>18</td>\n",
              "      <td>18</td>\n",
              "      <td>5</td>\n",
              "      <td>6</td>\n",
              "      <td>7</td>\n",
              "      <td>1</td>\n",
              "      <td>2</td>\n",
              "      <td>1</td>\n",
              "      <td>5</td>\n",
              "      <td>3</td>\n",
              "      <td>9</td>\n",
              "      <td>1</td>\n",
              "      <td>15</td>\n",
              "      <td>1</td>\n",
              "      <td>5</td>\n",
              "      <td>12</td>\n",
              "      <td>1</td>\n",
              "      <td>71</td>\n",
              "      <td>13</td>\n",
              "      <td>1</td>\n",
              "      <td>15</td>\n",
              "      <td>1</td>\n",
              "      <td>2</td>\n",
              "      <td>25</td>\n",
              "      <td>1</td>\n",
              "      <td>1</td>\n",
              "      <td>6</td>\n",
              "      <td>1</td>\n",
              "      <td>1</td>\n",
              "      <td>2</td>\n",
              "      <td>2</td>\n",
              "      <td>6</td>\n",
              "      <td>Low</td>\n",
              "    </tr>\n",
              "    <tr>\n",
              "      <th>4</th>\n",
              "      <td>5</td>\n",
              "      <td>13</td>\n",
              "      <td>19</td>\n",
              "      <td>5</td>\n",
              "      <td>6</td>\n",
              "      <td>3</td>\n",
              "      <td>1</td>\n",
              "      <td>2</td>\n",
              "      <td>1</td>\n",
              "      <td>5</td>\n",
              "      <td>7</td>\n",
              "      <td>9</td>\n",
              "      <td>1</td>\n",
              "      <td>10</td>\n",
              "      <td>1</td>\n",
              "      <td>5</td>\n",
              "      <td>15</td>\n",
              "      <td>1</td>\n",
              "      <td>75</td>\n",
              "      <td>10</td>\n",
              "      <td>0</td>\n",
              "      <td>11</td>\n",
              "      <td>0</td>\n",
              "      <td>1</td>\n",
              "      <td>22</td>\n",
              "      <td>1</td>\n",
              "      <td>2</td>\n",
              "      <td>7</td>\n",
              "      <td>0</td>\n",
              "      <td>1</td>\n",
              "      <td>1</td>\n",
              "      <td>1</td>\n",
              "      <td>1</td>\n",
              "      <td>Low</td>\n",
              "    </tr>\n",
              "  </tbody>\n",
              "</table>\n",
              "</div>"
            ],
            "text/plain": [
              "   Id  T1_V1  T1_V2  T1_V3  T1_V4  T1_V5  T1_V6  T1_V7  T1_V8  T1_V9  T1_V10  \\\n",
              "0   1     15      3      2      6      5      1      2      1      2       7   \n",
              "1   2     16     14      5      7      5      1      2      1      0      12   \n",
              "2   3     10     10      5      6      7      1      2      1      5      12   \n",
              "3   4     18     18      5      6      7      1      2      1      5       3   \n",
              "4   5     13     19      5      6      3      1      2      1      5       7   \n",
              "\n",
              "   T1_V11  T1_V12  T1_V13  T1_V14  T1_V15  T1_V16  T1_V17  T2_V1  T2_V2  \\\n",
              "0       2       1      15       1       5       1       1     36     11   \n",
              "1       2       1      10       3       5       1       0     78     10   \n",
              "2       9       1      15       1       5      12       0     71     21   \n",
              "3       9       1      15       1       5      12       1     71     13   \n",
              "4       9       1      10       1       5      15       1     75     10   \n",
              "\n",
              "   T2_V3  T2_V4  T2_V5  T2_V6  T2_V7  T2_V8  T2_V9  T2_V10  T2_V11  T2_V12  \\\n",
              "0      1     10      0      2     37      1     11       6       1       1   \n",
              "1      0     17      2      2     22      1     18       5       1       0   \n",
              "2      0     13      2      6     37      2     14       6       1       0   \n",
              "3      1     15      1      2     25      1      1       6       1       1   \n",
              "4      0     11      0      1     22      1      2       7       0       1   \n",
              "\n",
              "   T2_V13  T2_V14  T2_V15 Hazard_cat  \n",
              "0       1       2       2        Low  \n",
              "1       1       2       1     Medium  \n",
              "2       1       6       1        Low  \n",
              "3       2       2       6        Low  \n",
              "4       1       1       1        Low  "
            ]
          },
          "metadata": {},
          "execution_count": 27
        }
      ]
    },
    {
      "cell_type": "code",
      "metadata": {
        "id": "5e64b619"
      },
      "source": [
        ""
      ],
      "id": "5e64b619",
      "execution_count": 27,
      "outputs": []
    },
    {
      "cell_type": "code",
      "metadata": {
        "id": "b2347977"
      },
      "source": [
        ""
      ],
      "id": "b2347977",
      "execution_count": 27,
      "outputs": []
    },
    {
      "cell_type": "code",
      "metadata": {
        "id": "551a0776"
      },
      "source": [
        ""
      ],
      "id": "551a0776",
      "execution_count": 27,
      "outputs": []
    },
    {
      "cell_type": "code",
      "metadata": {
        "id": "199eb1a6"
      },
      "source": [
        ""
      ],
      "id": "199eb1a6",
      "execution_count": 27,
      "outputs": []
    },
    {
      "cell_type": "code",
      "metadata": {
        "id": "17d91a46"
      },
      "source": [
        ""
      ],
      "id": "17d91a46",
      "execution_count": 27,
      "outputs": []
    },
    {
      "cell_type": "code",
      "metadata": {
        "id": "b38b8c45"
      },
      "source": [
        "feature_scale=[feature for feature in train.columns if feature not in ['Id','Hazard_cat']]\n",
        "\n",
        "from sklearn.preprocessing import MinMaxScaler\n",
        "scaler=MinMaxScaler()\n",
        "scaler.fit(train[feature_scale])\n",
        "train[feature_scale]=scaler.transform(train[feature_scale])\n",
        "\n",
        "\n",
        "\n"
      ],
      "id": "b38b8c45",
      "execution_count": 28,
      "outputs": []
    },
    {
      "cell_type": "code",
      "metadata": {
        "colab": {
          "base_uri": "https://localhost:8080/",
          "height": 0
        },
        "id": "632d7985",
        "outputId": "4b299782-960c-44ef-b0d9-be51bec598aa"
      },
      "source": [
        "train.head()"
      ],
      "id": "632d7985",
      "execution_count": 29,
      "outputs": [
        {
          "output_type": "execute_result",
          "data": {
            "text/html": [
              "<div>\n",
              "<style scoped>\n",
              "    .dataframe tbody tr th:only-of-type {\n",
              "        vertical-align: middle;\n",
              "    }\n",
              "\n",
              "    .dataframe tbody tr th {\n",
              "        vertical-align: top;\n",
              "    }\n",
              "\n",
              "    .dataframe thead th {\n",
              "        text-align: right;\n",
              "    }\n",
              "</style>\n",
              "<table border=\"1\" class=\"dataframe\">\n",
              "  <thead>\n",
              "    <tr style=\"text-align: right;\">\n",
              "      <th></th>\n",
              "      <th>Id</th>\n",
              "      <th>T1_V1</th>\n",
              "      <th>T1_V2</th>\n",
              "      <th>T1_V3</th>\n",
              "      <th>T1_V4</th>\n",
              "      <th>T1_V5</th>\n",
              "      <th>T1_V6</th>\n",
              "      <th>T1_V7</th>\n",
              "      <th>T1_V8</th>\n",
              "      <th>T1_V9</th>\n",
              "      <th>T1_V10</th>\n",
              "      <th>T1_V11</th>\n",
              "      <th>T1_V12</th>\n",
              "      <th>T1_V13</th>\n",
              "      <th>T1_V14</th>\n",
              "      <th>T1_V15</th>\n",
              "      <th>T1_V16</th>\n",
              "      <th>T1_V17</th>\n",
              "      <th>T2_V1</th>\n",
              "      <th>T2_V2</th>\n",
              "      <th>T2_V3</th>\n",
              "      <th>T2_V4</th>\n",
              "      <th>T2_V5</th>\n",
              "      <th>T2_V6</th>\n",
              "      <th>T2_V7</th>\n",
              "      <th>T2_V8</th>\n",
              "      <th>T2_V9</th>\n",
              "      <th>T2_V10</th>\n",
              "      <th>T2_V11</th>\n",
              "      <th>T2_V12</th>\n",
              "      <th>T2_V13</th>\n",
              "      <th>T2_V14</th>\n",
              "      <th>T2_V15</th>\n",
              "      <th>Hazard_cat</th>\n",
              "    </tr>\n",
              "  </thead>\n",
              "  <tbody>\n",
              "    <tr>\n",
              "      <th>0</th>\n",
              "      <td>1</td>\n",
              "      <td>0.78</td>\n",
              "      <td>0.09</td>\n",
              "      <td>0.12</td>\n",
              "      <td>0.86</td>\n",
              "      <td>0.56</td>\n",
              "      <td>1.00</td>\n",
              "      <td>0.67</td>\n",
              "      <td>0.33</td>\n",
              "      <td>0.40</td>\n",
              "      <td>0.50</td>\n",
              "      <td>0.18</td>\n",
              "      <td>0.33</td>\n",
              "      <td>0.67</td>\n",
              "      <td>0.25</td>\n",
              "      <td>0.71</td>\n",
              "      <td>0.06</td>\n",
              "      <td>1.00</td>\n",
              "      <td>0.35</td>\n",
              "      <td>0.26</td>\n",
              "      <td>1.00</td>\n",
              "      <td>0.43</td>\n",
              "      <td>0.00</td>\n",
              "      <td>0.17</td>\n",
              "      <td>0.83</td>\n",
              "      <td>0.00</td>\n",
              "      <td>0.42</td>\n",
              "      <td>0.83</td>\n",
              "      <td>1.00</td>\n",
              "      <td>1.00</td>\n",
              "      <td>0.25</td>\n",
              "      <td>0.17</td>\n",
              "      <td>0.09</td>\n",
              "      <td>Low</td>\n",
              "    </tr>\n",
              "    <tr>\n",
              "      <th>1</th>\n",
              "      <td>2</td>\n",
              "      <td>0.83</td>\n",
              "      <td>0.57</td>\n",
              "      <td>0.50</td>\n",
              "      <td>1.00</td>\n",
              "      <td>0.56</td>\n",
              "      <td>1.00</td>\n",
              "      <td>0.67</td>\n",
              "      <td>0.33</td>\n",
              "      <td>0.00</td>\n",
              "      <td>1.00</td>\n",
              "      <td>0.18</td>\n",
              "      <td>0.33</td>\n",
              "      <td>0.33</td>\n",
              "      <td>0.75</td>\n",
              "      <td>0.71</td>\n",
              "      <td>0.06</td>\n",
              "      <td>0.00</td>\n",
              "      <td>0.78</td>\n",
              "      <td>0.24</td>\n",
              "      <td>0.00</td>\n",
              "      <td>0.76</td>\n",
              "      <td>0.40</td>\n",
              "      <td>0.17</td>\n",
              "      <td>0.00</td>\n",
              "      <td>0.00</td>\n",
              "      <td>0.71</td>\n",
              "      <td>0.67</td>\n",
              "      <td>1.00</td>\n",
              "      <td>0.00</td>\n",
              "      <td>0.25</td>\n",
              "      <td>0.17</td>\n",
              "      <td>0.00</td>\n",
              "      <td>Medium</td>\n",
              "    </tr>\n",
              "    <tr>\n",
              "      <th>2</th>\n",
              "      <td>3</td>\n",
              "      <td>0.50</td>\n",
              "      <td>0.39</td>\n",
              "      <td>0.50</td>\n",
              "      <td>0.86</td>\n",
              "      <td>0.78</td>\n",
              "      <td>1.00</td>\n",
              "      <td>0.67</td>\n",
              "      <td>0.33</td>\n",
              "      <td>1.00</td>\n",
              "      <td>1.00</td>\n",
              "      <td>0.82</td>\n",
              "      <td>0.33</td>\n",
              "      <td>0.67</td>\n",
              "      <td>0.25</td>\n",
              "      <td>0.71</td>\n",
              "      <td>0.71</td>\n",
              "      <td>0.00</td>\n",
              "      <td>0.71</td>\n",
              "      <td>0.53</td>\n",
              "      <td>0.00</td>\n",
              "      <td>0.57</td>\n",
              "      <td>0.40</td>\n",
              "      <td>0.83</td>\n",
              "      <td>0.83</td>\n",
              "      <td>0.50</td>\n",
              "      <td>0.54</td>\n",
              "      <td>0.83</td>\n",
              "      <td>1.00</td>\n",
              "      <td>0.00</td>\n",
              "      <td>0.25</td>\n",
              "      <td>0.83</td>\n",
              "      <td>0.00</td>\n",
              "      <td>Low</td>\n",
              "    </tr>\n",
              "    <tr>\n",
              "      <th>3</th>\n",
              "      <td>4</td>\n",
              "      <td>0.94</td>\n",
              "      <td>0.74</td>\n",
              "      <td>0.50</td>\n",
              "      <td>0.86</td>\n",
              "      <td>0.78</td>\n",
              "      <td>1.00</td>\n",
              "      <td>0.67</td>\n",
              "      <td>0.33</td>\n",
              "      <td>1.00</td>\n",
              "      <td>0.10</td>\n",
              "      <td>0.82</td>\n",
              "      <td>0.33</td>\n",
              "      <td>0.67</td>\n",
              "      <td>0.25</td>\n",
              "      <td>0.71</td>\n",
              "      <td>0.71</td>\n",
              "      <td>1.00</td>\n",
              "      <td>0.71</td>\n",
              "      <td>0.32</td>\n",
              "      <td>1.00</td>\n",
              "      <td>0.67</td>\n",
              "      <td>0.20</td>\n",
              "      <td>0.17</td>\n",
              "      <td>0.17</td>\n",
              "      <td>0.00</td>\n",
              "      <td>0.00</td>\n",
              "      <td>0.83</td>\n",
              "      <td>1.00</td>\n",
              "      <td>1.00</td>\n",
              "      <td>0.50</td>\n",
              "      <td>0.17</td>\n",
              "      <td>0.45</td>\n",
              "      <td>Low</td>\n",
              "    </tr>\n",
              "    <tr>\n",
              "      <th>4</th>\n",
              "      <td>5</td>\n",
              "      <td>0.67</td>\n",
              "      <td>0.78</td>\n",
              "      <td>0.50</td>\n",
              "      <td>0.86</td>\n",
              "      <td>0.33</td>\n",
              "      <td>1.00</td>\n",
              "      <td>0.67</td>\n",
              "      <td>0.33</td>\n",
              "      <td>1.00</td>\n",
              "      <td>0.50</td>\n",
              "      <td>0.82</td>\n",
              "      <td>0.33</td>\n",
              "      <td>0.33</td>\n",
              "      <td>0.25</td>\n",
              "      <td>0.71</td>\n",
              "      <td>0.88</td>\n",
              "      <td>1.00</td>\n",
              "      <td>0.75</td>\n",
              "      <td>0.24</td>\n",
              "      <td>0.00</td>\n",
              "      <td>0.48</td>\n",
              "      <td>0.00</td>\n",
              "      <td>0.00</td>\n",
              "      <td>0.00</td>\n",
              "      <td>0.00</td>\n",
              "      <td>0.04</td>\n",
              "      <td>1.00</td>\n",
              "      <td>0.00</td>\n",
              "      <td>1.00</td>\n",
              "      <td>0.25</td>\n",
              "      <td>0.00</td>\n",
              "      <td>0.00</td>\n",
              "      <td>Low</td>\n",
              "    </tr>\n",
              "  </tbody>\n",
              "</table>\n",
              "</div>"
            ],
            "text/plain": [
              "   Id  T1_V1  T1_V2  T1_V3  T1_V4  T1_V5  T1_V6  T1_V7  T1_V8  T1_V9  T1_V10  \\\n",
              "0   1   0.78   0.09   0.12   0.86   0.56   1.00   0.67   0.33   0.40    0.50   \n",
              "1   2   0.83   0.57   0.50   1.00   0.56   1.00   0.67   0.33   0.00    1.00   \n",
              "2   3   0.50   0.39   0.50   0.86   0.78   1.00   0.67   0.33   1.00    1.00   \n",
              "3   4   0.94   0.74   0.50   0.86   0.78   1.00   0.67   0.33   1.00    0.10   \n",
              "4   5   0.67   0.78   0.50   0.86   0.33   1.00   0.67   0.33   1.00    0.50   \n",
              "\n",
              "   T1_V11  T1_V12  T1_V13  T1_V14  T1_V15  T1_V16  T1_V17  T2_V1  T2_V2  \\\n",
              "0    0.18    0.33    0.67    0.25    0.71    0.06    1.00   0.35   0.26   \n",
              "1    0.18    0.33    0.33    0.75    0.71    0.06    0.00   0.78   0.24   \n",
              "2    0.82    0.33    0.67    0.25    0.71    0.71    0.00   0.71   0.53   \n",
              "3    0.82    0.33    0.67    0.25    0.71    0.71    1.00   0.71   0.32   \n",
              "4    0.82    0.33    0.33    0.25    0.71    0.88    1.00   0.75   0.24   \n",
              "\n",
              "   T2_V3  T2_V4  T2_V5  T2_V6  T2_V7  T2_V8  T2_V9  T2_V10  T2_V11  T2_V12  \\\n",
              "0   1.00   0.43   0.00   0.17   0.83   0.00   0.42    0.83    1.00    1.00   \n",
              "1   0.00   0.76   0.40   0.17   0.00   0.00   0.71    0.67    1.00    0.00   \n",
              "2   0.00   0.57   0.40   0.83   0.83   0.50   0.54    0.83    1.00    0.00   \n",
              "3   1.00   0.67   0.20   0.17   0.17   0.00   0.00    0.83    1.00    1.00   \n",
              "4   0.00   0.48   0.00   0.00   0.00   0.00   0.04    1.00    0.00    1.00   \n",
              "\n",
              "   T2_V13  T2_V14  T2_V15 Hazard_cat  \n",
              "0    0.25    0.17    0.09        Low  \n",
              "1    0.25    0.17    0.00     Medium  \n",
              "2    0.25    0.83    0.00        Low  \n",
              "3    0.50    0.17    0.45        Low  \n",
              "4    0.25    0.00    0.00        Low  "
            ]
          },
          "metadata": {},
          "execution_count": 29
        }
      ]
    },
    {
      "cell_type": "code",
      "metadata": {
        "id": "627b142e"
      },
      "source": [
        "import scipy.stats as stats"
      ],
      "id": "627b142e",
      "execution_count": 30,
      "outputs": []
    },
    {
      "cell_type": "code",
      "metadata": {
        "id": "7a739d1a"
      },
      "source": [
        "def diagnostic_plots(df, variable):\n",
        "    # function to plot a histogram and a Q-Q plot\n",
        "    # side by side, for a certain variable\n",
        "    \n",
        "    plt.figure(figsize=(10,5))\n",
        "    plt.subplot(1, 2, 1)\n",
        "    df[variable].hist()\n",
        "\n",
        "    plt.subplot(1, 2, 2)\n",
        "    stats.probplot(df[variable], dist=\"norm\", plot=plt)\n",
        "\n",
        "    plt.show()"
      ],
      "id": "7a739d1a",
      "execution_count": 31,
      "outputs": []
    },
    {
      "cell_type": "markdown",
      "metadata": {
        "id": "5bbcdccb"
      },
      "source": [
        "### Feature selection "
      ],
      "id": "5bbcdccb"
    },
    {
      "cell_type": "markdown",
      "metadata": {
        "id": "5c5bf4bd"
      },
      "source": [
        "### Feature selection method - VIF "
      ],
      "id": "5c5bf4bd"
    },
    {
      "cell_type": "code",
      "metadata": {
        "id": "d8579c16"
      },
      "source": [
        "train.drop('Id', axis=1, inplace=True)"
      ],
      "id": "d8579c16",
      "execution_count": 32,
      "outputs": []
    },
    {
      "cell_type": "code",
      "metadata": {
        "id": "b2582449"
      },
      "source": [
        ""
      ],
      "id": "b2582449",
      "execution_count": 32,
      "outputs": []
    },
    {
      "cell_type": "code",
      "metadata": {
        "id": "5e90da91"
      },
      "source": [
        ""
      ],
      "id": "5e90da91",
      "execution_count": 32,
      "outputs": []
    },
    {
      "cell_type": "code",
      "metadata": {
        "id": "27b14425"
      },
      "source": [
        "X = train.drop(['Hazard_cat'], axis=1)\n",
        "y= train['Hazard_cat']"
      ],
      "id": "27b14425",
      "execution_count": 33,
      "outputs": []
    },
    {
      "cell_type": "code",
      "metadata": {
        "colab": {
          "base_uri": "https://localhost:8080/"
        },
        "id": "8c6b4065",
        "outputId": "87106e63-d7a4-4e63-e4bc-a497c36737b3"
      },
      "source": [
        "y.value_counts()"
      ],
      "id": "8c6b4065",
      "execution_count": 34,
      "outputs": [
        {
          "output_type": "execute_result",
          "data": {
            "text/plain": [
              "Low       25126\n",
              "Medium    22467\n",
              "High       3406\n",
              "Name: Hazard_cat, dtype: int64"
            ]
          },
          "metadata": {},
          "execution_count": 34
        }
      ]
    },
    {
      "cell_type": "code",
      "metadata": {
        "scrolled": false,
        "colab": {
          "base_uri": "https://localhost:8080/",
          "height": 0
        },
        "id": "1be21dc8",
        "outputId": "86a7bbff-d83d-4533-de14-631a4e190a81"
      },
      "source": [
        "#Threshold as 20\n",
        "#x = demo.drop('class',axis=1)\n",
        "#x = x.drop('mass',axis=1)\n",
        "#x = x.drop('plas',axis=1)\n",
        "#y = demo[[\"class\"]]\n",
        "from statsmodels.stats.outliers_influence import variance_inflation_factor\n",
        "vif = pd.DataFrame()\n",
        "vif[\"VIF Factor\"] = [variance_inflation_factor(X.values, i) for i in range(X.shape[1])]\n",
        "vif[\"features\"] = X.columns\n",
        "vif"
      ],
      "id": "1be21dc8",
      "execution_count": 35,
      "outputs": [
        {
          "output_type": "execute_result",
          "data": {
            "text/html": [
              "<div>\n",
              "<style scoped>\n",
              "    .dataframe tbody tr th:only-of-type {\n",
              "        vertical-align: middle;\n",
              "    }\n",
              "\n",
              "    .dataframe tbody tr th {\n",
              "        vertical-align: top;\n",
              "    }\n",
              "\n",
              "    .dataframe thead th {\n",
              "        text-align: right;\n",
              "    }\n",
              "</style>\n",
              "<table border=\"1\" class=\"dataframe\">\n",
              "  <thead>\n",
              "    <tr style=\"text-align: right;\">\n",
              "      <th></th>\n",
              "      <th>VIF Factor</th>\n",
              "      <th>features</th>\n",
              "    </tr>\n",
              "  </thead>\n",
              "  <tbody>\n",
              "    <tr>\n",
              "      <th>0</th>\n",
              "      <td>4.48</td>\n",
              "      <td>T1_V1</td>\n",
              "    </tr>\n",
              "    <tr>\n",
              "      <th>1</th>\n",
              "      <td>5.12</td>\n",
              "      <td>T1_V2</td>\n",
              "    </tr>\n",
              "    <tr>\n",
              "      <th>2</th>\n",
              "      <td>2.67</td>\n",
              "      <td>T1_V3</td>\n",
              "    </tr>\n",
              "    <tr>\n",
              "      <th>3</th>\n",
              "      <td>4.18</td>\n",
              "      <td>T1_V4</td>\n",
              "    </tr>\n",
              "    <tr>\n",
              "      <th>4</th>\n",
              "      <td>7.28</td>\n",
              "      <td>T1_V5</td>\n",
              "    </tr>\n",
              "    <tr>\n",
              "      <th>5</th>\n",
              "      <td>2.25</td>\n",
              "      <td>T1_V6</td>\n",
              "    </tr>\n",
              "    <tr>\n",
              "      <th>6</th>\n",
              "      <td>30.77</td>\n",
              "      <td>T1_V7</td>\n",
              "    </tr>\n",
              "    <tr>\n",
              "      <th>7</th>\n",
              "      <td>6.93</td>\n",
              "      <td>T1_V8</td>\n",
              "    </tr>\n",
              "    <tr>\n",
              "      <th>8</th>\n",
              "      <td>38.94</td>\n",
              "      <td>T1_V9</td>\n",
              "    </tr>\n",
              "    <tr>\n",
              "      <th>9</th>\n",
              "      <td>2.91</td>\n",
              "      <td>T1_V10</td>\n",
              "    </tr>\n",
              "    <tr>\n",
              "      <th>10</th>\n",
              "      <td>31.64</td>\n",
              "      <td>T1_V11</td>\n",
              "    </tr>\n",
              "    <tr>\n",
              "      <th>11</th>\n",
              "      <td>7.59</td>\n",
              "      <td>T1_V12</td>\n",
              "    </tr>\n",
              "    <tr>\n",
              "      <th>12</th>\n",
              "      <td>4.62</td>\n",
              "      <td>T1_V13</td>\n",
              "    </tr>\n",
              "    <tr>\n",
              "      <th>13</th>\n",
              "      <td>4.48</td>\n",
              "      <td>T1_V14</td>\n",
              "    </tr>\n",
              "    <tr>\n",
              "      <th>14</th>\n",
              "      <td>18.71</td>\n",
              "      <td>T1_V15</td>\n",
              "    </tr>\n",
              "    <tr>\n",
              "      <th>15</th>\n",
              "      <td>26.32</td>\n",
              "      <td>T1_V16</td>\n",
              "    </tr>\n",
              "    <tr>\n",
              "      <th>16</th>\n",
              "      <td>79.86</td>\n",
              "      <td>T1_V17</td>\n",
              "    </tr>\n",
              "    <tr>\n",
              "      <th>17</th>\n",
              "      <td>8.40</td>\n",
              "      <td>T2_V1</td>\n",
              "    </tr>\n",
              "    <tr>\n",
              "      <th>18</th>\n",
              "      <td>7.18</td>\n",
              "      <td>T2_V2</td>\n",
              "    </tr>\n",
              "    <tr>\n",
              "      <th>19</th>\n",
              "      <td>3.06</td>\n",
              "      <td>T2_V3</td>\n",
              "    </tr>\n",
              "    <tr>\n",
              "      <th>20</th>\n",
              "      <td>6.86</td>\n",
              "      <td>T2_V4</td>\n",
              "    </tr>\n",
              "    <tr>\n",
              "      <th>21</th>\n",
              "      <td>3.02</td>\n",
              "      <td>T2_V5</td>\n",
              "    </tr>\n",
              "    <tr>\n",
              "      <th>22</th>\n",
              "      <td>4.24</td>\n",
              "      <td>T2_V6</td>\n",
              "    </tr>\n",
              "    <tr>\n",
              "      <th>23</th>\n",
              "      <td>4.76</td>\n",
              "      <td>T2_V7</td>\n",
              "    </tr>\n",
              "    <tr>\n",
              "      <th>24</th>\n",
              "      <td>1.15</td>\n",
              "      <td>T2_V8</td>\n",
              "    </tr>\n",
              "    <tr>\n",
              "      <th>25</th>\n",
              "      <td>3.58</td>\n",
              "      <td>T2_V9</td>\n",
              "    </tr>\n",
              "    <tr>\n",
              "      <th>26</th>\n",
              "      <td>4.29</td>\n",
              "      <td>T2_V10</td>\n",
              "    </tr>\n",
              "    <tr>\n",
              "      <th>27</th>\n",
              "      <td>5.32</td>\n",
              "      <td>T2_V11</td>\n",
              "    </tr>\n",
              "    <tr>\n",
              "      <th>28</th>\n",
              "      <td>83.98</td>\n",
              "      <td>T2_V12</td>\n",
              "    </tr>\n",
              "    <tr>\n",
              "      <th>29</th>\n",
              "      <td>3.67</td>\n",
              "      <td>T2_V13</td>\n",
              "    </tr>\n",
              "    <tr>\n",
              "      <th>30</th>\n",
              "      <td>4.00</td>\n",
              "      <td>T2_V14</td>\n",
              "    </tr>\n",
              "    <tr>\n",
              "      <th>31</th>\n",
              "      <td>2.34</td>\n",
              "      <td>T2_V15</td>\n",
              "    </tr>\n",
              "  </tbody>\n",
              "</table>\n",
              "</div>"
            ],
            "text/plain": [
              "    VIF Factor features\n",
              "0         4.48    T1_V1\n",
              "1         5.12    T1_V2\n",
              "2         2.67    T1_V3\n",
              "3         4.18    T1_V4\n",
              "4         7.28    T1_V5\n",
              "5         2.25    T1_V6\n",
              "6        30.77    T1_V7\n",
              "7         6.93    T1_V8\n",
              "8        38.94    T1_V9\n",
              "9         2.91   T1_V10\n",
              "10       31.64   T1_V11\n",
              "11        7.59   T1_V12\n",
              "12        4.62   T1_V13\n",
              "13        4.48   T1_V14\n",
              "14       18.71   T1_V15\n",
              "15       26.32   T1_V16\n",
              "16       79.86   T1_V17\n",
              "17        8.40    T2_V1\n",
              "18        7.18    T2_V2\n",
              "19        3.06    T2_V3\n",
              "20        6.86    T2_V4\n",
              "21        3.02    T2_V5\n",
              "22        4.24    T2_V6\n",
              "23        4.76    T2_V7\n",
              "24        1.15    T2_V8\n",
              "25        3.58    T2_V9\n",
              "26        4.29   T2_V10\n",
              "27        5.32   T2_V11\n",
              "28       83.98   T2_V12\n",
              "29        3.67   T2_V13\n",
              "30        4.00   T2_V14\n",
              "31        2.34   T2_V15"
            ]
          },
          "metadata": {},
          "execution_count": 35
        }
      ]
    },
    {
      "cell_type": "code",
      "metadata": {
        "colab": {
          "base_uri": "https://localhost:8080/"
        },
        "id": "21018ba9",
        "outputId": "ef00d059-62e6-4bf9-d477-4d8e7bffc4df"
      },
      "source": [
        "# for each numeric variable, calculate VIF and save it in a dataframe 'vif'\n",
        "\n",
        "# use for loop to iterate the VIF function \n",
        "for ind in range(len(X.columns)):\n",
        "    \n",
        "    # create an empty dataframe\n",
        "    vif = pd.DataFrame()\n",
        "\n",
        "    # calculate VIF using list comprehension\n",
        "    # use for loop to access each variable \n",
        "    # calculate VIF for each variable and create a column 'VIF_Factor' to store the values \n",
        "    vif[\"VIF_Factor\"] = [variance_inflation_factor(X.values, i) for i in range(X.shape[1])]\n",
        "\n",
        "    # create a column of variable names\n",
        "    vif[\"Features\"] = X.columns\n",
        "\n",
        "    # filter the variables with VIF greater than 10 and store it in a dataframe 'multi' \n",
        "    # one can choose the threshold other than 10 (it depends on the business requirements)\n",
        "    multi = vif[vif['VIF_Factor'] > 20]\n",
        "    \n",
        "    # if dataframe 'multi' is not empty, then sort the dataframe by VIF values\n",
        "    # if dataframe 'multi' is empty (i.e. all VIF <= 10), then print the dataframe 'vif' and break the for loop using 'break' \n",
        "    # 'by' sorts the data using given variable(s)\n",
        "    # 'ascending = False' sorts the data in descending order\n",
        "    if(multi.empty == False):\n",
        "        df_sorted = multi.sort_values(by = 'VIF_Factor', ascending = False)\n",
        "    else:\n",
        "        print(vif)\n",
        "        break\n",
        "    \n",
        "    # use if-else to drop the variable with the highest VIF\n",
        "    # if  dataframe 'df_sorted' is not empty, then drop the first entry in the column 'Features' from the numeric variables\n",
        "    # select the variable using 'iloc[]'\n",
        "    # 'axis=1' drops the corresponding column\n",
        "    #  else print the final dataframe 'vif' with all values after removal of variables with VIF less than 10  \n",
        "    if (df_sorted.empty == False):\n",
        "        X = X.drop(df_sorted.Features.iloc[0], axis=1)\n",
        "    else:\n",
        "        print(vif)"
      ],
      "id": "21018ba9",
      "execution_count": 36,
      "outputs": [
        {
          "output_type": "stream",
          "name": "stdout",
          "text": [
            "    VIF_Factor Features\n",
            "0         4.41    T1_V1\n",
            "1         5.10    T1_V2\n",
            "2         2.65    T1_V3\n",
            "3         4.17    T1_V4\n",
            "4         6.96    T1_V5\n",
            "5         2.24    T1_V6\n",
            "6         6.79    T1_V8\n",
            "7         2.89   T1_V10\n",
            "8         7.36   T1_V12\n",
            "9         4.55   T1_V13\n",
            "10        4.34   T1_V14\n",
            "11       17.65   T1_V15\n",
            "12        7.26   T1_V16\n",
            "13        5.81   T1_V17\n",
            "14        8.16    T2_V1\n",
            "15        6.96    T2_V2\n",
            "16        3.03    T2_V3\n",
            "17        6.81    T2_V4\n",
            "18        3.00    T2_V5\n",
            "19        4.24    T2_V6\n",
            "20        4.68    T2_V7\n",
            "21        1.15    T2_V8\n",
            "22        3.52    T2_V9\n",
            "23        4.23   T2_V10\n",
            "24        5.30   T2_V11\n",
            "25        3.67   T2_V13\n",
            "26        3.98   T2_V14\n",
            "27        2.32   T2_V15\n"
          ]
        }
      ]
    },
    {
      "cell_type": "code",
      "metadata": {
        "colab": {
          "base_uri": "https://localhost:8080/"
        },
        "id": "5df0a43f",
        "outputId": "5fc51bbc-ce53-4967-9667-63d53bfe1fc6"
      },
      "source": [
        "X.shape"
      ],
      "id": "5df0a43f",
      "execution_count": 37,
      "outputs": [
        {
          "output_type": "execute_result",
          "data": {
            "text/plain": [
              "(50999, 28)"
            ]
          },
          "metadata": {},
          "execution_count": 37
        }
      ]
    },
    {
      "cell_type": "code",
      "metadata": {
        "colab": {
          "base_uri": "https://localhost:8080/",
          "height": 0
        },
        "id": "738fe49e",
        "outputId": "e8f43930-a4d4-49c9-f87f-e61b61934671"
      },
      "source": [
        "X.head()"
      ],
      "id": "738fe49e",
      "execution_count": 38,
      "outputs": [
        {
          "output_type": "execute_result",
          "data": {
            "text/html": [
              "<div>\n",
              "<style scoped>\n",
              "    .dataframe tbody tr th:only-of-type {\n",
              "        vertical-align: middle;\n",
              "    }\n",
              "\n",
              "    .dataframe tbody tr th {\n",
              "        vertical-align: top;\n",
              "    }\n",
              "\n",
              "    .dataframe thead th {\n",
              "        text-align: right;\n",
              "    }\n",
              "</style>\n",
              "<table border=\"1\" class=\"dataframe\">\n",
              "  <thead>\n",
              "    <tr style=\"text-align: right;\">\n",
              "      <th></th>\n",
              "      <th>T1_V1</th>\n",
              "      <th>T1_V2</th>\n",
              "      <th>T1_V3</th>\n",
              "      <th>T1_V4</th>\n",
              "      <th>T1_V5</th>\n",
              "      <th>T1_V6</th>\n",
              "      <th>T1_V8</th>\n",
              "      <th>T1_V10</th>\n",
              "      <th>T1_V12</th>\n",
              "      <th>T1_V13</th>\n",
              "      <th>T1_V14</th>\n",
              "      <th>T1_V15</th>\n",
              "      <th>T1_V16</th>\n",
              "      <th>T1_V17</th>\n",
              "      <th>T2_V1</th>\n",
              "      <th>T2_V2</th>\n",
              "      <th>T2_V3</th>\n",
              "      <th>T2_V4</th>\n",
              "      <th>T2_V5</th>\n",
              "      <th>T2_V6</th>\n",
              "      <th>T2_V7</th>\n",
              "      <th>T2_V8</th>\n",
              "      <th>T2_V9</th>\n",
              "      <th>T2_V10</th>\n",
              "      <th>T2_V11</th>\n",
              "      <th>T2_V13</th>\n",
              "      <th>T2_V14</th>\n",
              "      <th>T2_V15</th>\n",
              "    </tr>\n",
              "  </thead>\n",
              "  <tbody>\n",
              "    <tr>\n",
              "      <th>0</th>\n",
              "      <td>0.78</td>\n",
              "      <td>0.09</td>\n",
              "      <td>0.12</td>\n",
              "      <td>0.86</td>\n",
              "      <td>0.56</td>\n",
              "      <td>1.00</td>\n",
              "      <td>0.33</td>\n",
              "      <td>0.50</td>\n",
              "      <td>0.33</td>\n",
              "      <td>0.67</td>\n",
              "      <td>0.25</td>\n",
              "      <td>0.71</td>\n",
              "      <td>0.06</td>\n",
              "      <td>1.00</td>\n",
              "      <td>0.35</td>\n",
              "      <td>0.26</td>\n",
              "      <td>1.00</td>\n",
              "      <td>0.43</td>\n",
              "      <td>0.00</td>\n",
              "      <td>0.17</td>\n",
              "      <td>0.83</td>\n",
              "      <td>0.00</td>\n",
              "      <td>0.42</td>\n",
              "      <td>0.83</td>\n",
              "      <td>1.00</td>\n",
              "      <td>0.25</td>\n",
              "      <td>0.17</td>\n",
              "      <td>0.09</td>\n",
              "    </tr>\n",
              "    <tr>\n",
              "      <th>1</th>\n",
              "      <td>0.83</td>\n",
              "      <td>0.57</td>\n",
              "      <td>0.50</td>\n",
              "      <td>1.00</td>\n",
              "      <td>0.56</td>\n",
              "      <td>1.00</td>\n",
              "      <td>0.33</td>\n",
              "      <td>1.00</td>\n",
              "      <td>0.33</td>\n",
              "      <td>0.33</td>\n",
              "      <td>0.75</td>\n",
              "      <td>0.71</td>\n",
              "      <td>0.06</td>\n",
              "      <td>0.00</td>\n",
              "      <td>0.78</td>\n",
              "      <td>0.24</td>\n",
              "      <td>0.00</td>\n",
              "      <td>0.76</td>\n",
              "      <td>0.40</td>\n",
              "      <td>0.17</td>\n",
              "      <td>0.00</td>\n",
              "      <td>0.00</td>\n",
              "      <td>0.71</td>\n",
              "      <td>0.67</td>\n",
              "      <td>1.00</td>\n",
              "      <td>0.25</td>\n",
              "      <td>0.17</td>\n",
              "      <td>0.00</td>\n",
              "    </tr>\n",
              "    <tr>\n",
              "      <th>2</th>\n",
              "      <td>0.50</td>\n",
              "      <td>0.39</td>\n",
              "      <td>0.50</td>\n",
              "      <td>0.86</td>\n",
              "      <td>0.78</td>\n",
              "      <td>1.00</td>\n",
              "      <td>0.33</td>\n",
              "      <td>1.00</td>\n",
              "      <td>0.33</td>\n",
              "      <td>0.67</td>\n",
              "      <td>0.25</td>\n",
              "      <td>0.71</td>\n",
              "      <td>0.71</td>\n",
              "      <td>0.00</td>\n",
              "      <td>0.71</td>\n",
              "      <td>0.53</td>\n",
              "      <td>0.00</td>\n",
              "      <td>0.57</td>\n",
              "      <td>0.40</td>\n",
              "      <td>0.83</td>\n",
              "      <td>0.83</td>\n",
              "      <td>0.50</td>\n",
              "      <td>0.54</td>\n",
              "      <td>0.83</td>\n",
              "      <td>1.00</td>\n",
              "      <td>0.25</td>\n",
              "      <td>0.83</td>\n",
              "      <td>0.00</td>\n",
              "    </tr>\n",
              "    <tr>\n",
              "      <th>3</th>\n",
              "      <td>0.94</td>\n",
              "      <td>0.74</td>\n",
              "      <td>0.50</td>\n",
              "      <td>0.86</td>\n",
              "      <td>0.78</td>\n",
              "      <td>1.00</td>\n",
              "      <td>0.33</td>\n",
              "      <td>0.10</td>\n",
              "      <td>0.33</td>\n",
              "      <td>0.67</td>\n",
              "      <td>0.25</td>\n",
              "      <td>0.71</td>\n",
              "      <td>0.71</td>\n",
              "      <td>1.00</td>\n",
              "      <td>0.71</td>\n",
              "      <td>0.32</td>\n",
              "      <td>1.00</td>\n",
              "      <td>0.67</td>\n",
              "      <td>0.20</td>\n",
              "      <td>0.17</td>\n",
              "      <td>0.17</td>\n",
              "      <td>0.00</td>\n",
              "      <td>0.00</td>\n",
              "      <td>0.83</td>\n",
              "      <td>1.00</td>\n",
              "      <td>0.50</td>\n",
              "      <td>0.17</td>\n",
              "      <td>0.45</td>\n",
              "    </tr>\n",
              "    <tr>\n",
              "      <th>4</th>\n",
              "      <td>0.67</td>\n",
              "      <td>0.78</td>\n",
              "      <td>0.50</td>\n",
              "      <td>0.86</td>\n",
              "      <td>0.33</td>\n",
              "      <td>1.00</td>\n",
              "      <td>0.33</td>\n",
              "      <td>0.50</td>\n",
              "      <td>0.33</td>\n",
              "      <td>0.33</td>\n",
              "      <td>0.25</td>\n",
              "      <td>0.71</td>\n",
              "      <td>0.88</td>\n",
              "      <td>1.00</td>\n",
              "      <td>0.75</td>\n",
              "      <td>0.24</td>\n",
              "      <td>0.00</td>\n",
              "      <td>0.48</td>\n",
              "      <td>0.00</td>\n",
              "      <td>0.00</td>\n",
              "      <td>0.00</td>\n",
              "      <td>0.00</td>\n",
              "      <td>0.04</td>\n",
              "      <td>1.00</td>\n",
              "      <td>0.00</td>\n",
              "      <td>0.25</td>\n",
              "      <td>0.00</td>\n",
              "      <td>0.00</td>\n",
              "    </tr>\n",
              "  </tbody>\n",
              "</table>\n",
              "</div>"
            ],
            "text/plain": [
              "   T1_V1  T1_V2  T1_V3  T1_V4  T1_V5  T1_V6  T1_V8  T1_V10  T1_V12  T1_V13  \\\n",
              "0   0.78   0.09   0.12   0.86   0.56   1.00   0.33    0.50    0.33    0.67   \n",
              "1   0.83   0.57   0.50   1.00   0.56   1.00   0.33    1.00    0.33    0.33   \n",
              "2   0.50   0.39   0.50   0.86   0.78   1.00   0.33    1.00    0.33    0.67   \n",
              "3   0.94   0.74   0.50   0.86   0.78   1.00   0.33    0.10    0.33    0.67   \n",
              "4   0.67   0.78   0.50   0.86   0.33   1.00   0.33    0.50    0.33    0.33   \n",
              "\n",
              "   T1_V14  T1_V15  T1_V16  T1_V17  T2_V1  T2_V2  T2_V3  T2_V4  T2_V5  T2_V6  \\\n",
              "0    0.25    0.71    0.06    1.00   0.35   0.26   1.00   0.43   0.00   0.17   \n",
              "1    0.75    0.71    0.06    0.00   0.78   0.24   0.00   0.76   0.40   0.17   \n",
              "2    0.25    0.71    0.71    0.00   0.71   0.53   0.00   0.57   0.40   0.83   \n",
              "3    0.25    0.71    0.71    1.00   0.71   0.32   1.00   0.67   0.20   0.17   \n",
              "4    0.25    0.71    0.88    1.00   0.75   0.24   0.00   0.48   0.00   0.00   \n",
              "\n",
              "   T2_V7  T2_V8  T2_V9  T2_V10  T2_V11  T2_V13  T2_V14  T2_V15  \n",
              "0   0.83   0.00   0.42    0.83    1.00    0.25    0.17    0.09  \n",
              "1   0.00   0.00   0.71    0.67    1.00    0.25    0.17    0.00  \n",
              "2   0.83   0.50   0.54    0.83    1.00    0.25    0.83    0.00  \n",
              "3   0.17   0.00   0.00    0.83    1.00    0.50    0.17    0.45  \n",
              "4   0.00   0.00   0.04    1.00    0.00    0.25    0.00    0.00  "
            ]
          },
          "metadata": {},
          "execution_count": 38
        }
      ]
    },
    {
      "cell_type": "markdown",
      "metadata": {
        "id": "fb7602b7"
      },
      "source": [
        "## Models"
      ],
      "id": "fb7602b7"
    },
    {
      "cell_type": "markdown",
      "metadata": {
        "id": "a54e7fe0"
      },
      "source": [
        "\n",
        "7.2 Data Preparation**\n",
        "\n",
        "- Now we will **split** our **data** in **training** and **testing** part for further development."
      ],
      "id": "a54e7fe0"
    },
    {
      "cell_type": "code",
      "metadata": {
        "id": "498baedf"
      },
      "source": [
        "#y=y.astype('int')"
      ],
      "id": "498baedf",
      "execution_count": 39,
      "outputs": []
    },
    {
      "cell_type": "code",
      "metadata": {
        "_uuid": "03265e24fe47a7f0c6775aca6408e955e2750c83",
        "id": "0f4c8d89"
      },
      "source": [
        "X_train, X_test, y_train, y_test = train_test_split(X, y, test_size=0.25, random_state=0)"
      ],
      "id": "0f4c8d89",
      "execution_count": 40,
      "outputs": []
    },
    {
      "cell_type": "code",
      "metadata": {
        "colab": {
          "base_uri": "https://localhost:8080/"
        },
        "id": "52f9f8a4",
        "outputId": "2498a7ea-5914-4d15-8fe3-db4413c299f6"
      },
      "source": [
        "y_train.head()"
      ],
      "id": "52f9f8a4",
      "execution_count": 41,
      "outputs": [
        {
          "output_type": "execute_result",
          "data": {
            "text/plain": [
              "32729       Low\n",
              "2519     Medium\n",
              "25906       Low\n",
              "48086    Medium\n",
              "9092     Medium\n",
              "Name: Hazard_cat, dtype: object"
            ]
          },
          "metadata": {},
          "execution_count": 41
        }
      ]
    },
    {
      "cell_type": "code",
      "metadata": {
        "colab": {
          "base_uri": "https://localhost:8080/"
        },
        "id": "a6647b39",
        "outputId": "b592df19-6830-448b-8472-0f570a38d247"
      },
      "source": [
        "y_train.shape"
      ],
      "id": "a6647b39",
      "execution_count": 42,
      "outputs": [
        {
          "output_type": "execute_result",
          "data": {
            "text/plain": [
              "(38249,)"
            ]
          },
          "metadata": {},
          "execution_count": 42
        }
      ]
    },
    {
      "cell_type": "markdown",
      "metadata": {
        "id": "8be25674"
      },
      "source": [
        "<a name = Section31></a>\n",
        "### **3.1 Installing Libraries**"
      ],
      "id": "8be25674"
    },
    {
      "cell_type": "code",
      "metadata": {
        "id": "a22b2a1b"
      },
      "source": [
        "!pip install -q datascience                                         # Package that is required by pandas profiling\n",
        "!pip install -q pandas-profiling                                    # Library to generate basic statistics about data\n",
        "!pip install -q yellowbrick                                         # Toolbox for Measuring Machine Performance               "
      ],
      "id": "a22b2a1b",
      "execution_count": 43,
      "outputs": []
    },
    {
      "cell_type": "markdown",
      "metadata": {
        "id": "0f99e32d"
      },
      "source": [
        "<a name = Section32></a>\n",
        "### **3.2 Upgrading Libraries**\n",
        "\n",
        "- **After upgrading** the libraries, you need to **restart the runtime** to make the libraries in sync. \n",
        "\n",
        "- Make sure not to execute the cell above (3.1) and below (3.2) again after restarting the runtime."
      ],
      "id": "0f99e32d"
    },
    {
      "cell_type": "code",
      "metadata": {
        "id": "7cc6dd39"
      },
      "source": [
        "!pip install -q --upgrade pandas-profiling\n",
        "!pip install -q --upgrade yellowbrick"
      ],
      "id": "7cc6dd39",
      "execution_count": 44,
      "outputs": []
    },
    {
      "cell_type": "markdown",
      "metadata": {
        "id": "1466a5a9"
      },
      "source": [
        "<a name = Section33></a>\n",
        "### **3.3 Importing Libraries**"
      ],
      "id": "1466a5a9"
    },
    {
      "cell_type": "code",
      "metadata": {
        "id": "ac37a484",
        "colab": {
          "base_uri": "https://localhost:8080/"
        },
        "outputId": "248d48e6-83f7-4b38-c167-283ecc91e8ed"
      },
      "source": [
        "!pip install yellowbrick\n",
        "#import yellowbrick\n",
        "#-------------------------------------------------------------------------------------------------------------------------------\n",
        "import pandas as pd                                                 # Importing for panel data analysis\n",
        "from pandas_profiling import ProfileReport                          # Import Pandas Profiling (To generate Univariate Analysis) \n",
        "pd.set_option('display.max_columns', None)                          # Unfolding hidden features if the cardinality is high      \n",
        "pd.set_option('display.max_colwidth', None)                         # Unfolding the max feature width for better clearity      \n",
        "pd.set_option('display.max_rows', None)                             # Unfolding hidden data points if the cardinality is high\n",
        "pd.set_option('mode.chained_assignment', None)                      # Removing restriction over chained assignments operations\n",
        "pd.set_option('display.float_format', lambda x: '%.2f' % x)         # To suppress scientific notation over exponential values\n",
        "#-------------------------------------------------------------------------------------------------------------------------------\n",
        "import numpy as np                                                  # Importing package numpys (For Numerical Python)\n",
        "#-------------------------------------------------------------------------------------------------------------------------------\n",
        "import matplotlib.pyplot as plt                                     # Importing pyplot interface using matplotlib                                              \n",
        "import seaborn as sns                                               # Importin seaborm library for interactive visualization\n",
        "%matplotlib inline\n",
        "#-------------------------------------------------------------------------------------------------------------------------------\n",
        "from sklearn.feature_selection import SelectFromModel               # To perform Feature Selection over model\n",
        "#from yellowbrick.model_selection import FeatureImportances          # To retrieve Feature Importances over model\n",
        "from sklearn.metrics import classification_report                   # To generate classification report of the model\n",
        "from sklearn.metrics import plot_confusion_matrix                   # To plot confusion matrix of the model\n",
        "#-------------------------------------------------------------------------------------------------------------------------------\n",
        "from sklearn.model_selection import train_test_split                # To perform train, test and split over the data\n",
        "from sklearn.linear_model import LogisticRegression                 # To perform modeling using LogisticRegression\n",
        "from sklearn.svm import SVC                                         # To perform modeling using SVC\n",
        "from sklearn.tree import DecisionTreeClassifier                     # To perform modeling using DecisionTreeClassifier\n",
        "from sklearn.ensemble import RandomForestClassifier                 # To perform modeling using RandomForestClassifier\n",
        "from sklearn.ensemble import VotingClassifier                       # To perform modeling using VotingClassifier\n",
        "from sklearn.ensemble import BaggingClassifier                      # To perform modeling using BaggingClassifier \n",
        "from sklearn.ensemble import AdaBoostClassifier                     # To perform modeling using AdaBoostClassifier\n",
        "from sklearn.ensemble import GradientBoostingClassifier             # To perform modeling using GradientBoostingClassifier\n",
        "#-------------------------------------------------------------------------------------------------------------------------------\n",
        "import warnings                                                     # Importing warning to disable runtime warnings\n",
        "warnings.filterwarnings(\"ignore\")                                   # Warnings will appear only once\n",
        "from sklearn.tree import DecisionTreeRegressor"
      ],
      "id": "ac37a484",
      "execution_count": 45,
      "outputs": [
        {
          "output_type": "stream",
          "name": "stdout",
          "text": [
            "Requirement already satisfied: yellowbrick in /usr/local/lib/python3.7/dist-packages (1.3.post1)\n",
            "Requirement already satisfied: scipy>=1.0.0 in /usr/local/lib/python3.7/dist-packages (from yellowbrick) (1.7.1)\n",
            "Requirement already satisfied: cycler>=0.10.0 in /usr/local/lib/python3.7/dist-packages (from yellowbrick) (0.10.0)\n",
            "Requirement already satisfied: scikit-learn>=0.20 in /usr/local/lib/python3.7/dist-packages (from yellowbrick) (1.0)\n",
            "Requirement already satisfied: numpy<1.20,>=1.16.0 in /usr/local/lib/python3.7/dist-packages (from yellowbrick) (1.19.5)\n",
            "Requirement already satisfied: matplotlib!=3.0.0,>=2.0.2 in /usr/local/lib/python3.7/dist-packages (from yellowbrick) (3.2.2)\n",
            "Requirement already satisfied: six in /usr/local/lib/python3.7/dist-packages (from cycler>=0.10.0->yellowbrick) (1.15.0)\n",
            "Requirement already satisfied: python-dateutil>=2.1 in /usr/local/lib/python3.7/dist-packages (from matplotlib!=3.0.0,>=2.0.2->yellowbrick) (2.8.2)\n",
            "Requirement already satisfied: pyparsing!=2.0.4,!=2.1.2,!=2.1.6,>=2.0.1 in /usr/local/lib/python3.7/dist-packages (from matplotlib!=3.0.0,>=2.0.2->yellowbrick) (2.4.7)\n",
            "Requirement already satisfied: kiwisolver>=1.0.1 in /usr/local/lib/python3.7/dist-packages (from matplotlib!=3.0.0,>=2.0.2->yellowbrick) (1.3.2)\n",
            "Requirement already satisfied: threadpoolctl>=2.0.0 in /usr/local/lib/python3.7/dist-packages (from scikit-learn>=0.20->yellowbrick) (3.0.0)\n",
            "Requirement already satisfied: joblib>=0.11 in /usr/local/lib/python3.7/dist-packages (from scikit-learn>=0.20->yellowbrick) (1.0.1)\n"
          ]
        }
      ]
    },
    {
      "cell_type": "code",
      "metadata": {
        "id": "7d87018d"
      },
      "source": [
        "## Hyperparameter optimization using RandomizedSearchCV\n",
        "from sklearn.model_selection import RandomizedSearchCV, GridSearchCV\n",
        "from sklearn.ensemble import StackingClassifier                     # To perform modeling using StackingClassifier\n",
        "\n",
        "#import Xgboost"
      ],
      "id": "7d87018d",
      "execution_count": 46,
      "outputs": []
    },
    {
      "cell_type": "code",
      "metadata": {
        "id": "6f2a123e"
      },
      "source": [
        "\n",
        "\n",
        "#!pip install libomp\n",
        "\n"
      ],
      "id": "6f2a123e",
      "execution_count": 47,
      "outputs": []
    },
    {
      "cell_type": "code",
      "metadata": {
        "colab": {
          "base_uri": "https://localhost:8080/"
        },
        "id": "85cad0dd",
        "outputId": "3b827e1e-319b-4f60-ec21-3b1c4a070b1c"
      },
      "source": [
        "pip install xgboost\n"
      ],
      "id": "85cad0dd",
      "execution_count": 48,
      "outputs": [
        {
          "output_type": "stream",
          "name": "stdout",
          "text": [
            "Requirement already satisfied: xgboost in /usr/local/lib/python3.7/dist-packages (0.90)\n",
            "Requirement already satisfied: numpy in /usr/local/lib/python3.7/dist-packages (from xgboost) (1.19.5)\n",
            "Requirement already satisfied: scipy in /usr/local/lib/python3.7/dist-packages (from xgboost) (1.7.1)\n"
          ]
        }
      ]
    },
    {
      "cell_type": "code",
      "metadata": {
        "id": "48113337"
      },
      "source": [
        "# ('logistic', LogisticRegression(random_state=0)), "
      ],
      "id": "48113337",
      "execution_count": 49,
      "outputs": []
    },
    {
      "cell_type": "code",
      "metadata": {
        "colab": {
          "base_uri": "https://localhost:8080/"
        },
        "id": "019099c7",
        "outputId": "1095d88b-68fb-485e-fed1-3542c19887e1"
      },
      "source": [
        "X_train.shape"
      ],
      "id": "019099c7",
      "execution_count": 50,
      "outputs": [
        {
          "output_type": "execute_result",
          "data": {
            "text/plain": [
              "(38249, 28)"
            ]
          },
          "metadata": {},
          "execution_count": 50
        }
      ]
    },
    {
      "cell_type": "code",
      "metadata": {
        "colab": {
          "base_uri": "https://localhost:8080/"
        },
        "id": "8215e9de",
        "outputId": "17aa5a13-c4ba-4797-dee7-c4c865c15012"
      },
      "source": [
        "X.columns"
      ],
      "id": "8215e9de",
      "execution_count": 51,
      "outputs": [
        {
          "output_type": "execute_result",
          "data": {
            "text/plain": [
              "Index(['T1_V1', 'T1_V2', 'T1_V3', 'T1_V4', 'T1_V5', 'T1_V6', 'T1_V8', 'T1_V10',\n",
              "       'T1_V12', 'T1_V13', 'T1_V14', 'T1_V15', 'T1_V16', 'T1_V17', 'T2_V1',\n",
              "       'T2_V2', 'T2_V3', 'T2_V4', 'T2_V5', 'T2_V6', 'T2_V7', 'T2_V8', 'T2_V9',\n",
              "       'T2_V10', 'T2_V11', 'T2_V13', 'T2_V14', 'T2_V15'],\n",
              "      dtype='object')"
            ]
          },
          "metadata": {},
          "execution_count": 51
        }
      ]
    },
    {
      "cell_type": "code",
      "metadata": {
        "id": "48154a8d"
      },
      "source": [
        ""
      ],
      "id": "48154a8d",
      "execution_count": 51,
      "outputs": []
    },
    {
      "cell_type": "markdown",
      "metadata": {
        "id": "2e31792a"
      },
      "source": [
        "<a name = Section73></a>\n",
        "### **7.3 Data Preparation**\n",
        "\n",
        "- Now we will **split** our **data** in **training** and **testing** part for further development."
      ],
      "id": "2e31792a"
    },
    {
      "cell_type": "markdown",
      "metadata": {
        "id": "08a0ef32"
      },
      "source": [
        "**Observation:**\n",
        "\n",
        "- Now that we have split our data we are **ready** to move to the **next part** and that is Model Development & Evaluation."
      ],
      "id": "08a0ef32"
    },
    {
      "cell_type": "markdown",
      "metadata": {
        "id": "e87b3a3a"
      },
      "source": [
        "## Handling Data Imbalance"
      ],
      "id": "e87b3a3a"
    },
    {
      "cell_type": "code",
      "metadata": {
        "colab": {
          "base_uri": "https://localhost:8080/"
        },
        "id": "88b8dd03",
        "outputId": "5796cddb-c192-48c4-a67a-dcd6f272628b"
      },
      "source": [
        "!pip install imbalanced-learn"
      ],
      "id": "88b8dd03",
      "execution_count": 52,
      "outputs": [
        {
          "output_type": "stream",
          "name": "stdout",
          "text": [
            "Requirement already satisfied: imbalanced-learn in /usr/local/lib/python3.7/dist-packages (0.8.1)\n",
            "Requirement already satisfied: scipy>=0.19.1 in /usr/local/lib/python3.7/dist-packages (from imbalanced-learn) (1.7.1)\n",
            "Requirement already satisfied: numpy>=1.13.3 in /usr/local/lib/python3.7/dist-packages (from imbalanced-learn) (1.19.5)\n",
            "Requirement already satisfied: scikit-learn>=0.24 in /usr/local/lib/python3.7/dist-packages (from imbalanced-learn) (1.0)\n",
            "Requirement already satisfied: joblib>=0.11 in /usr/local/lib/python3.7/dist-packages (from imbalanced-learn) (1.0.1)\n",
            "Requirement already satisfied: threadpoolctl>=2.0.0 in /usr/local/lib/python3.7/dist-packages (from scikit-learn>=0.24->imbalanced-learn) (3.0.0)\n"
          ]
        }
      ]
    },
    {
      "cell_type": "code",
      "metadata": {
        "colab": {
          "base_uri": "https://localhost:8080/"
        },
        "id": "74dc0f82",
        "outputId": "6c213b96-f677-40cd-ccf9-d1e91078a7dd"
      },
      "source": [
        "!pip install --upgrade imbalanced-learn"
      ],
      "id": "74dc0f82",
      "execution_count": 53,
      "outputs": [
        {
          "output_type": "stream",
          "name": "stdout",
          "text": [
            "Requirement already satisfied: imbalanced-learn in /usr/local/lib/python3.7/dist-packages (0.8.1)\n",
            "Requirement already satisfied: joblib>=0.11 in /usr/local/lib/python3.7/dist-packages (from imbalanced-learn) (1.0.1)\n",
            "Requirement already satisfied: scikit-learn>=0.24 in /usr/local/lib/python3.7/dist-packages (from imbalanced-learn) (1.0)\n",
            "Requirement already satisfied: numpy>=1.13.3 in /usr/local/lib/python3.7/dist-packages (from imbalanced-learn) (1.19.5)\n",
            "Requirement already satisfied: scipy>=0.19.1 in /usr/local/lib/python3.7/dist-packages (from imbalanced-learn) (1.7.1)\n",
            "Requirement already satisfied: threadpoolctl>=2.0.0 in /usr/local/lib/python3.7/dist-packages (from scikit-learn>=0.24->imbalanced-learn) (3.0.0)\n"
          ]
        }
      ]
    },
    {
      "cell_type": "markdown",
      "metadata": {
        "id": "7e20d4bf"
      },
      "source": [
        "#### Random Oversampling"
      ],
      "id": "7e20d4bf"
    },
    {
      "cell_type": "code",
      "metadata": {
        "id": "8a85ab8d"
      },
      "source": [
        "from collections import Counter\n",
        "import numpy as np\n",
        "import matplotlib.pyplot as plt"
      ],
      "id": "8a85ab8d",
      "execution_count": 54,
      "outputs": []
    },
    {
      "cell_type": "code",
      "metadata": {
        "id": "8392a346"
      },
      "source": [
        "#!pip install Pipeline\n",
        "#!pip install delayed\n",
        "\n",
        "\n",
        "from imblearn.pipeline import Pipeline\n",
        "from sklearn.utils.fixes import delayed\n",
        "from imblearn.over_sampling import RandomOverSampler \n",
        "from imblearn.under_sampling import RandomUnderSampler"
      ],
      "id": "8392a346",
      "execution_count": 55,
      "outputs": []
    },
    {
      "cell_type": "code",
      "metadata": {
        "id": "ff27da96"
      },
      "source": [
        "from sklearn.model_selection import cross_val_score\n",
        "from sklearn.model_selection import RepeatedStratifiedKFold\n",
        "from sklearn.tree import DecisionTreeClassifier\n"
      ],
      "id": "ff27da96",
      "execution_count": 56,
      "outputs": []
    },
    {
      "cell_type": "code",
      "metadata": {
        "id": "71294445"
      },
      "source": [
        "# Define oversampling strategy\n",
        "oversample = RandomOverSampler(sampling_strategy=({'High':22000}) )"
      ],
      "id": "71294445",
      "execution_count": 57,
      "outputs": []
    },
    {
      "cell_type": "code",
      "metadata": {
        "colab": {
          "base_uri": "https://localhost:8080/"
        },
        "id": "d0364ac9",
        "outputId": "2669a396-f470-4594-c598-25d05ed582cd"
      },
      "source": [
        "y.value_counts()"
      ],
      "id": "d0364ac9",
      "execution_count": 58,
      "outputs": [
        {
          "output_type": "execute_result",
          "data": {
            "text/plain": [
              "Low       25126\n",
              "Medium    22467\n",
              "High       3406\n",
              "Name: Hazard_cat, dtype: int64"
            ]
          },
          "metadata": {},
          "execution_count": 58
        }
      ]
    },
    {
      "cell_type": "code",
      "metadata": {
        "id": "71d20c20"
      },
      "source": [
        "# Fit and apply the transform\n",
        "X_over, y_over = oversample.fit_resample(X, y)"
      ],
      "id": "71d20c20",
      "execution_count": 59,
      "outputs": []
    },
    {
      "cell_type": "code",
      "metadata": {
        "colab": {
          "base_uri": "https://localhost:8080/"
        },
        "id": "f610efd6",
        "outputId": "b18eec07-3eb2-48b0-f14a-1e2cc5026f36"
      },
      "source": [
        "y_over.value_counts()"
      ],
      "id": "f610efd6",
      "execution_count": 60,
      "outputs": [
        {
          "output_type": "execute_result",
          "data": {
            "text/plain": [
              "Low       25126\n",
              "Medium    22467\n",
              "High      22000\n",
              "Name: Hazard_cat, dtype: int64"
            ]
          },
          "metadata": {},
          "execution_count": 60
        }
      ]
    },
    {
      "cell_type": "code",
      "metadata": {
        "colab": {
          "base_uri": "https://localhost:8080/"
        },
        "id": "50f8c41f",
        "outputId": "f61c04df-6491-47df-dbb3-1dac853190f6"
      },
      "source": [
        "# Summarize original and new class distribution\n",
        "print(Counter(y))\n",
        "print(Counter(y_over))"
      ],
      "id": "50f8c41f",
      "execution_count": 61,
      "outputs": [
        {
          "output_type": "stream",
          "name": "stdout",
          "text": [
            "Counter({'Low': 25126, 'Medium': 22467, 'High': 3406})\n",
            "Counter({'Low': 25126, 'Medium': 22467, 'High': 22000})\n"
          ]
        }
      ]
    },
    {
      "cell_type": "code",
      "metadata": {
        "id": "579aec37"
      },
      "source": [
        "# Define pipeline\n",
        "dt_clf = DecisionTreeClassifier(random_state = 42, class_weight='balanced')\n",
        "steps = [('over', RandomOverSampler(sampling_strategy=({'High':25000}))), ('model', AdaBoostClassifier(base_estimator=dt_clf, n_estimators=500, random_state=42))]\n",
        "pipeline = Pipeline(steps=steps)"
      ],
      "id": "579aec37",
      "execution_count": 62,
      "outputs": []
    },
    {
      "cell_type": "code",
      "metadata": {
        "colab": {
          "base_uri": "https://localhost:8080/"
        },
        "id": "e668f5e3",
        "outputId": "9d0a7a8f-1297-4db5-b7ca-ae617a8c0451"
      },
      "source": [
        "cv = RepeatedStratifiedKFold(n_splits=10, n_repeats=3, random_state=1)\n",
        "scores = cross_val_score(pipeline, X_over, y_over, scoring='accuracy', cv=cv, n_jobs=-1)\n",
        "score = np.mean(scores)\n",
        "print('accuracy : %.3f' % score)"
      ],
      "id": "e668f5e3",
      "execution_count": 63,
      "outputs": [
        {
          "output_type": "stream",
          "name": "stdout",
          "text": [
            "accuracy : 0.647\n"
          ]
        }
      ]
    },
    {
      "cell_type": "code",
      "metadata": {
        "colab": {
          "base_uri": "https://localhost:8080/",
          "height": 52
        },
        "id": "c74c7e88",
        "outputId": "f51f35dc-6694-427a-b1a2-0e9f5e2b9fb8"
      },
      "source": [
        "'''\n",
        "# Define pipeline\n",
        "steps = [('under', RandomUnderSampler()), ('model', DecisionTreeClassifier())]\n",
        "pipeline = Pipeline(steps=steps)\n",
        "'''"
      ],
      "id": "c74c7e88",
      "execution_count": 64,
      "outputs": [
        {
          "output_type": "execute_result",
          "data": {
            "application/vnd.google.colaboratory.intrinsic+json": {
              "type": "string"
            },
            "text/plain": [
              "\"\\n# Define pipeline\\nsteps = [('under', RandomUnderSampler()), ('model', DecisionTreeClassifier())]\\npipeline = Pipeline(steps=steps)\\n\""
            ]
          },
          "metadata": {},
          "execution_count": 64
        }
      ]
    },
    {
      "cell_type": "code",
      "metadata": {
        "colab": {
          "base_uri": "https://localhost:8080/",
          "height": 52
        },
        "id": "4d22b7f6",
        "outputId": "f00d16c9-0172-4a6f-d3f6-ef89a1a26e22"
      },
      "source": [
        "'''\n",
        "# Evaluate pipeline\n",
        "cv = RepeatedStratifiedKFold(n_splits=10, n_repeats=3, random_state=1)\n",
        "scores = cross_val_score(pipeline, X, y, scoring='accuracy', cv=cv, n_jobs=-1)\n",
        "score = np.mean(scores)\n",
        "print('accuracy: %.3f' % score)\n",
        "'''"
      ],
      "id": "4d22b7f6",
      "execution_count": 65,
      "outputs": [
        {
          "output_type": "execute_result",
          "data": {
            "application/vnd.google.colaboratory.intrinsic+json": {
              "type": "string"
            },
            "text/plain": [
              "\"\\n# Evaluate pipeline\\ncv = RepeatedStratifiedKFold(n_splits=10, n_repeats=3, random_state=1)\\nscores = cross_val_score(pipeline, X, y, scoring='accuracy', cv=cv, n_jobs=-1)\\nscore = np.mean(scores)\\nprint('accuracy: %.3f' % score)\\n\""
            ]
          },
          "metadata": {},
          "execution_count": 65
        }
      ]
    },
    {
      "cell_type": "code",
      "metadata": {
        "id": "031adbcb"
      },
      "source": [
        "from imblearn.over_sampling import SMOTE"
      ],
      "id": "031adbcb",
      "execution_count": 66,
      "outputs": []
    },
    {
      "cell_type": "code",
      "metadata": {
        "id": "7e8531ee"
      },
      "source": [
        "# Transform the dataset\n",
        "oversample = SMOTE(sampling_strategy=({'High':20000}))\n",
        "X_new, y_new = oversample.fit_resample(X, y)"
      ],
      "id": "7e8531ee",
      "execution_count": 82,
      "outputs": []
    },
    {
      "cell_type": "code",
      "metadata": {
        "colab": {
          "base_uri": "https://localhost:8080/"
        },
        "id": "cbec09c1",
        "outputId": "edb26994-bfef-4dea-b610-f9854544cbe3"
      },
      "source": [
        "counter = Counter(y_new)\n",
        "print(counter)"
      ],
      "id": "cbec09c1",
      "execution_count": 83,
      "outputs": [
        {
          "output_type": "stream",
          "name": "stdout",
          "text": [
            "Counter({'Low': 25126, 'Medium': 22467, 'High': 20000})\n"
          ]
        }
      ]
    },
    {
      "cell_type": "code",
      "metadata": {
        "id": "a97ce0b5"
      },
      "source": [
        "# Define pipeline\n",
        "steps = [('over', SMOTE()), ('model', AdaBoostClassifier(base_estimator=dt_clf, n_estimators=500, random_state=42))]\n",
        "pipeline = Pipeline(steps=steps)"
      ],
      "id": "a97ce0b5",
      "execution_count": 84,
      "outputs": []
    },
    {
      "cell_type": "code",
      "metadata": {
        "colab": {
          "base_uri": "https://localhost:8080/"
        },
        "id": "5d685ce4",
        "outputId": "43a0a9e1-1ace-4f8a-d360-139984514c19"
      },
      "source": [
        "# Evaluate pipeline\n",
        "cv = RepeatedStratifiedKFold(n_splits=10, n_repeats=3, random_state=1)\n",
        "scores = cross_val_score(pipeline, X_new, y_new, scoring='accuracy', cv=cv, n_jobs=-1)\n",
        "print('accuracy Score: %.3f' % np.mean(scores))"
      ],
      "id": "5d685ce4",
      "execution_count": 85,
      "outputs": [
        {
          "output_type": "stream",
          "name": "stdout",
          "text": [
            "accuracy Score: 0.567\n"
          ]
        }
      ]
    },
    {
      "cell_type": "code",
      "metadata": {
        "id": "01277019"
      },
      "source": [
        "X_train, X_test, y_train, y_test = train_test_split(X_new, y_new, test_size=0.25, random_state=0)"
      ],
      "id": "01277019",
      "execution_count": 86,
      "outputs": []
    },
    {
      "cell_type": "code",
      "metadata": {
        "id": "9a72c9a8"
      },
      "source": [
        ""
      ],
      "id": "9a72c9a8",
      "execution_count": 71,
      "outputs": []
    },
    {
      "cell_type": "code",
      "metadata": {
        "id": "a1de2ce5"
      },
      "source": [
        ""
      ],
      "id": "a1de2ce5",
      "execution_count": 71,
      "outputs": []
    },
    {
      "cell_type": "markdown",
      "metadata": {
        "id": "80aaf23f"
      },
      "source": [
        "<a name = Section8></a>\n",
        "\n",
        "---\n",
        "# **8. Model Development & Evaluation**\n",
        "---\n",
        "\n",
        "- In this section we will develop variety of models such as: \n",
        "\n",
        "|Logistic Regression|Decision Tree|Random Forest|Bagging|Adaptive Boosting|Gradient Boosting|Voting Classifier|\n",
        "|:--|:--|:--|:--|:--|:--|:--|\n",
        "\n",
        "- For estimating the **performance** of the **model** we will be using **accuracy** as a **metric**.\n",
        "\n",
        "- Considering the complexity of data, we can run a **loop** over multiple **classifiers** and estimate the accuracy of the model.\n",
        "\n",
        "- But in a real-life situation, one must train the model individually as then decide which model is best in which situation."
      ],
      "id": "80aaf23f"
    },
    {
      "cell_type": "code",
      "metadata": {
        "id": "83bacc48"
      },
      "source": [
        "# Initialize classifiers\n",
        "log_clf = LogisticRegression(random_state = 42, class_weight='balanced')\n",
        "#sv_clf = SVC(random_state=42, class_weight='balanced', probability=True)\n",
        "dt_clf = DecisionTreeClassifier(random_state = 42, class_weight='balanced')\n",
        "rf_clf = RandomForestClassifier(n_estimators=500, random_state = 42, class_weight='balanced', n_jobs=-1)\n",
        "bag_clf = BaggingClassifier(base_estimator=dt_clf, n_estimators=500, n_jobs=-1, random_state=42)\n",
        "voting_clf = VotingClassifier(estimators=[('lr', log_clf), ('rf', rf_clf), ('dt', dt_clf)], voting='soft')\n",
        "\n",
        "ada_clf = AdaBoostClassifier(base_estimator=dt_clf, n_estimators=500, random_state=42)\n",
        "gb_clf = GradientBoostingClassifier(max_depth=20,n_estimators=300, random_state = 42)"
      ],
      "id": "83bacc48",
      "execution_count": 87,
      "outputs": []
    },
    {
      "cell_type": "code",
      "metadata": {
        "colab": {
          "base_uri": "https://localhost:8080/"
        },
        "id": "63b94f0c",
        "outputId": "66d9c30d-c604-4888-abb7-87f9fbdd15e8"
      },
      "source": [
        "GradientBoostingClassifier()"
      ],
      "id": "63b94f0c",
      "execution_count": 73,
      "outputs": [
        {
          "output_type": "execute_result",
          "data": {
            "text/plain": [
              "GradientBoostingClassifier()"
            ]
          },
          "metadata": {},
          "execution_count": 73
        }
      ]
    },
    {
      "cell_type": "code",
      "metadata": {
        "id": "96fd6342",
        "colab": {
          "base_uri": "https://localhost:8080/"
        },
        "outputId": "c04954d3-c392-4fad-c4fa-befcd9b4a7bc"
      },
      "source": [
        "%%time\n",
        "# Intialize a list of classifier objects\n",
        "clf_list = [log_clf,  dt_clf, bag_clf, voting_clf, rf_clf, ada_clf, gb_clf]\n",
        "\n",
        "# Create an empty list to append scores and classifier name\n",
        "train_scores = []\n",
        "test_scores = []\n",
        "clf_names = []\n",
        "\n",
        "# Train classifier over train data and append scores to empty list\n",
        "for clf in clf_list:\n",
        "  # Fit the train data over the classifier object\n",
        "  clf.fit(X_train, y_train)\n",
        "\n",
        "  # Append train and test score to the empty list\n",
        "  train_scores.append(np.round(a=clf.score(X_train, y_train), decimals=2))\n",
        "  test_scores.append(np.round(a=clf.score(X_test, y_test), decimals=2))\n",
        "  clf_names.append(clf.__class__.__name__)\n",
        "\n",
        "print('Success!')"
      ],
      "id": "96fd6342",
      "execution_count": 88,
      "outputs": [
        {
          "output_type": "stream",
          "name": "stdout",
          "text": [
            "Success!\n",
            "CPU times: user 22min 17s, sys: 17.7 s, total: 22min 34s\n",
            "Wall time: 26min\n"
          ]
        }
      ]
    },
    {
      "cell_type": "code",
      "metadata": {
        "colab": {
          "base_uri": "https://localhost:8080/",
          "height": 165
        },
        "id": "5a00877f",
        "outputId": "d3cba3d9-914f-4c79-f963-837e38d074bc"
      },
      "source": [
        "# Create an accuracy dataframe from scores and names list\n",
        "accuracy_frame = pd.DataFrame(data={'Train Accuracy': train_scores, 'Test Accuracy': test_scores}, index=clf_names)\n",
        "\n",
        "# View the accuracy of all the classifiers\n",
        "accuracy_frame.transpose()"
      ],
      "id": "5a00877f",
      "execution_count": 89,
      "outputs": [
        {
          "output_type": "execute_result",
          "data": {
            "text/html": [
              "<div>\n",
              "<style scoped>\n",
              "    .dataframe tbody tr th:only-of-type {\n",
              "        vertical-align: middle;\n",
              "    }\n",
              "\n",
              "    .dataframe tbody tr th {\n",
              "        vertical-align: top;\n",
              "    }\n",
              "\n",
              "    .dataframe thead th {\n",
              "        text-align: right;\n",
              "    }\n",
              "</style>\n",
              "<table border=\"1\" class=\"dataframe\">\n",
              "  <thead>\n",
              "    <tr style=\"text-align: right;\">\n",
              "      <th></th>\n",
              "      <th>LogisticRegression</th>\n",
              "      <th>DecisionTreeClassifier</th>\n",
              "      <th>BaggingClassifier</th>\n",
              "      <th>VotingClassifier</th>\n",
              "      <th>RandomForestClassifier</th>\n",
              "      <th>AdaBoostClassifier</th>\n",
              "      <th>GradientBoostingClassifier</th>\n",
              "    </tr>\n",
              "  </thead>\n",
              "  <tbody>\n",
              "    <tr>\n",
              "      <th>Train Accuracy</th>\n",
              "      <td>0.47</td>\n",
              "      <td>1.00</td>\n",
              "      <td>1.00</td>\n",
              "      <td>1.00</td>\n",
              "      <td>1.00</td>\n",
              "      <td>1.00</td>\n",
              "      <td>1.00</td>\n",
              "    </tr>\n",
              "    <tr>\n",
              "      <th>Test Accuracy</th>\n",
              "      <td>0.47</td>\n",
              "      <td>0.58</td>\n",
              "      <td>0.65</td>\n",
              "      <td>0.59</td>\n",
              "      <td>0.66</td>\n",
              "      <td>0.58</td>\n",
              "      <td>0.65</td>\n",
              "    </tr>\n",
              "  </tbody>\n",
              "</table>\n",
              "</div>"
            ],
            "text/plain": [
              "                LogisticRegression  DecisionTreeClassifier  BaggingClassifier  \\\n",
              "Train Accuracy                0.47                    1.00               1.00   \n",
              "Test Accuracy                 0.47                    0.58               0.65   \n",
              "\n",
              "                VotingClassifier  RandomForestClassifier  AdaBoostClassifier  \\\n",
              "Train Accuracy              1.00                    1.00                1.00   \n",
              "Test Accuracy               0.59                    0.66                0.58   \n",
              "\n",
              "                GradientBoostingClassifier  \n",
              "Train Accuracy                        1.00  \n",
              "Test Accuracy                         0.65  "
            ]
          },
          "metadata": {},
          "execution_count": 89
        }
      ]
    },
    {
      "cell_type": "markdown",
      "metadata": {
        "id": "583f7be8"
      },
      "source": [
        "**Observation:**\n",
        "\n",
        "- The highest **accuracy** achieved on the **test set** is **46%** which is given by **GradientBoostingClassifier, Random ForestClassifier, Bagging Classifier**, but the train accuracy of these classifiers are 100%, which indicates overfitting\n",
        "\n",
        "- The next best model in the line is **BaggingClassifier** which gave us an **accuracy** of **68%**.\n",
        "\n",
        "- We see that each **ensemble** classifier is **better** compared to the **individual** classifier. "
      ],
      "id": "583f7be8"
    },
    {
      "cell_type": "markdown",
      "metadata": {
        "id": "ed75466d"
      },
      "source": [
        "<a name = Section7></a>\n",
        "\n",
        "---\n",
        "# **7. Model Development & Evaluation**\n",
        "---\n",
        "\n",
        "- In this section we will develop stacking classifier with the help of different estimators such as:\n",
        "  - Logistic Regression\n",
        "  - Support Vector Classifier\n",
        "  - K Nearest Neighbor Classifier\n",
        "  - Random Forest Classifier\n",
        "  - Gradient Boosting Classifier\n",
        "\n",
        "- For estimating the **performance** of the **model** we will be using **accuracy** as a **metric**."
      ],
      "id": "ed75466d"
    },
    {
      "cell_type": "code",
      "metadata": {
        "colab": {
          "base_uri": "https://localhost:8080/"
        },
        "id": "6dc18417",
        "outputId": "b113e09e-570c-43c4-b7d3-51f5fd67af48"
      },
      "source": [
        "%%time\n",
        "# Creating a collection of estimators\n",
        "estimators = [('logistic', LogisticRegression(class_weight='balanced', random_state=42, n_jobs=-1)), \n",
        "            # ('Gradient boosting', GradientBoostingClassifier(random_state=42)),\n",
        "         ('Bagging Classifier', BaggingClassifier(random_state=42)),\n",
        "             ('Decision Tree', DecisionTreeClassifier(random_state=0)),\n",
        "            ('knn', KNeighborsClassifier(n_jobs=-1)),\n",
        "              #  ('svc', SVC(class_weight='balanced', random_state=42, probability=True)),\n",
        "              ('randomforest', RandomForestClassifier(class_weight='balanced', n_jobs=-1, random_state=42))]\n",
        "\n",
        "#level1 = LogisticRegression()\n",
        "#level1=DecisionTreeClassifier(random_state=0)\n",
        "level1 = GradientBoostingClassifier(random_state=42)\n",
        "#level1 = RandomForestClassifier(class_weight='balanced', n_jobs=-1, random_state=42)\n",
        "# Setting StackingClassifier with initiated estimators and a final estimator\n",
        "stack_clf = StackingClassifier(estimators=estimators, \n",
        "                               final_estimator=level1, \n",
        "                               n_jobs=-1, cv=5)\n",
        "stack_clf.fit(X_train, y_train)\n",
        "y_pred_test =stack_clf.predict(X_test)\n",
        "y_pred_train=stack_clf.predict(X_train)                                                 # make predictions on the testing set\n",
        "#y_pred_test=np.exp(y_pred_test) \n",
        "#y_pred_train=np.exp(y_pred_train)\n",
        "        #end = time.time()\n",
        "        #timetaken.append(end - begin)\n",
        "#test_accuracy.append(f1_score(y_test, y_pred))\n",
        "#train_accuracy.append(f1_score(y_train,y_train_pred))\n",
        "print('F1 score train', f1_score(y_train,y_pred_train, average='macro'))\n",
        "print('F1 score test', f1_score(y_test,y_pred_test, average='macro'))\n",
        "print('Classification',classification_report(y_train,y_pred_train))\n",
        "print('Classification',classification_report(y_test,y_pred_test))\n",
        "# Display the accuracy on train data and test data\n",
        "print('Accuracy on Train data:', np.round(a=stack_clf.score(X_train, y_train), decimals=2))\n",
        "print('Accuracy on Test data:', np.round(a=stack_clf.score(X_test, y_test), decimals=2))"
      ],
      "id": "6dc18417",
      "execution_count": 90,
      "outputs": [
        {
          "output_type": "stream",
          "name": "stdout",
          "text": [
            "F1 score train 0.9601721320841721\n",
            "F1 score test 0.6826261143367889\n",
            "Classification               precision    recall  f1-score   support\n",
            "\n",
            "        High       1.00      1.00      1.00     14931\n",
            "         Low       0.99      0.89      0.94     18961\n",
            "      Medium       0.89      0.99      0.94     16802\n",
            "\n",
            "    accuracy                           0.96     50694\n",
            "   macro avg       0.96      0.96      0.96     50694\n",
            "weighted avg       0.96      0.96      0.96     50694\n",
            "\n",
            "Classification               precision    recall  f1-score   support\n",
            "\n",
            "        High       0.95      0.92      0.94      5069\n",
            "         Low       0.57      0.67      0.62      6165\n",
            "      Medium       0.54      0.46      0.49      5665\n",
            "\n",
            "    accuracy                           0.67     16899\n",
            "   macro avg       0.69      0.68      0.68     16899\n",
            "weighted avg       0.68      0.67      0.67     16899\n",
            "\n",
            "Accuracy on Train data: 0.96\n",
            "Accuracy on Test data: 0.67\n",
            "CPU times: user 9min 55s, sys: 12.3 s, total: 10min 7s\n",
            "Wall time: 10min 24s\n"
          ]
        }
      ]
    },
    {
      "cell_type": "markdown",
      "metadata": {
        "id": "9c12ac53"
      },
      "source": [
        "**Observation:**\n",
        "\n",
        "- We can **observe** that **results** obtained by stacking of models are **generalizing well** on test data.\n",
        "\n",
        "- In the last notebook, we achieved **99% accuracy** on the **train set** and **68% accuracy** on the **test set**.\n",
        "\n",
        "- Now we can see that **overfitting** is **under control** by using a stacked generalization. "
      ],
      "id": "9c12ac53"
    },
    {
      "cell_type": "markdown",
      "metadata": {
        "id": "5caa5d28"
      },
      "source": [
        "<a name = Section8></a>\n",
        "\n",
        "---\n",
        "# **8. Conclusion**\n",
        "---\n",
        "\n",
        "- We **studied** the **characteristics** and **distribution** of data in brief.\n",
        "\n",
        "- We investigated in-depth the **features** which to **retain** and which to **discard**.\n",
        "\n",
        "- We performed **model development** by using a stacked generalization of a variety of algorithms.\n",
        "\n",
        "- We observed **better results** as compared to the results obtained in the last notebook.\n",
        "\n",
        "- This model will **help** the **company** in **saving** lot of **resources** (money, human resources, etc.).\n",
        "\n",
        "- We **recommend** you to **experiment** with **more hyperparameter** and try to enhance the results of the model."
      ],
      "id": "5caa5d28"
    }
  ]
}